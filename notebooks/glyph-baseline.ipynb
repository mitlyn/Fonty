{
 "cells": [
  {
   "cell_type": "markdown",
   "id": "230460a8-f787-4cb5-8b0a-e1440f364dc1",
   "metadata": {},
   "source": [
    "# glyph-baseline\n",
    "\n",
    "This notebook investigates how to line all the glyphs to baseline when rendering PNG."
   ]
  },
  {
   "cell_type": "markdown",
   "id": "bfcfeff3-30cf-4d27-b929-dcc4f34ae667",
   "metadata": {},
   "source": [
    "## load the lib"
   ]
  },
  {
   "cell_type": "code",
   "execution_count": 1,
   "id": "595656b8-90ee-4a33-960f-06c78dcce1a1",
   "metadata": {},
   "outputs": [],
   "source": [
    "import os\n",
    "import sys"
   ]
  },
  {
   "cell_type": "code",
   "execution_count": 2,
   "id": "d44a4019-516d-42cd-8f53-d9bafb1c3814",
   "metadata": {},
   "outputs": [],
   "source": [
    "sys.path.insert(1, os.path.join(sys.path[0], '..', 'fonty'))"
   ]
  },
  {
   "cell_type": "code",
   "execution_count": 3,
   "id": "2a3f838d-3b15-4e4b-989e-ac2a4691a076",
   "metadata": {
    "scrolled": true
   },
   "outputs": [],
   "source": [
    "sys.path.append('/usr/lib/python3/dist-packages/')\n",
    "import font_processing"
   ]
  },
  {
   "cell_type": "code",
   "execution_count": 4,
   "id": "36d76987-30bd-4f10-aa3c-4c2a1308d76e",
   "metadata": {
    "scrolled": true
   },
   "outputs": [],
   "source": [
    "font_processor = font_processing.FontProcessor('SourceCodePro-Regular.ttf', flip_v=True)"
   ]
  },
  {
   "cell_type": "code",
   "execution_count": 5,
   "id": "a8c6286f-9608-430a-be5e-dd7cbbd529ce",
   "metadata": {
    "editable": true,
    "slideshow": {
     "slide_type": ""
    },
    "tags": []
   },
   "outputs": [],
   "source": [
    "font_processor.save_svg_font('SourceCodePro-Regular.svg')"
   ]
  },
  {
   "cell_type": "code",
   "execution_count": 6,
   "id": "566499b8-85d7-45c7-8f95-f04f69558df8",
   "metadata": {},
   "outputs": [],
   "source": [
    "import matplotlib.pyplot as plt"
   ]
  },
  {
   "cell_type": "code",
   "execution_count": 13,
   "id": "8db649be-0e22-47d7-91ff-9484e975227d",
   "metadata": {},
   "outputs": [
    {
     "name": "stdout",
     "output_type": "stream",
     "text": [
      "\n",
      "            <svg\n",
      "                xmlns='http://www.w3.org/2000/svg'\n",
      "                xmlns:xlink='http://www.w3.org/1999/xlink'\n",
      "                width='128' height='128'\n",
      "                viewPort='0 0 128 128'\n",
      "            >\n",
      "                <rect width='128' height='128' fill='#fff' />\n",
      "                <path\n",
      "                    d='M114 0v656h406v-70h-322v-206h272v-71h-272v-238h332v-71h-416z'\n",
      "                    fill='#000'\n",
      "                    transform='translate(40.617886178861795,85.33333333333333) scale(0.06504065040650407,-0.06504065040650407)'\n",
      "                />\n",
      "            </svg>\n",
      "        \n"
     ]
    },
    {
     "data": {
      "text/plain": [
       "<matplotlib.image.AxesImage at 0x7f923ba529e0>"
      ]
     },
     "execution_count": 13,
     "metadata": {},
     "output_type": "execute_result"
    },
    {
     "data": {
      "image/png": "[encoded data removed]",
      "text/plain": [
       "<Figure size 640x480 with 1 Axes>"
      ]
     },
     "metadata": {},
     "output_type": "display_data"
    }
   ],
   "source": [
    "plt.imshow(\n",
    "    font_processor.glyph2array(\n",
    "        font_processor.glyphs[6],\n",
    "        glyph_size_proportion=1\n",
    "    )\n",
    ")"
   ]
  },
  {
   "cell_type": "markdown",
   "id": "d1e42d40-f184-4c9e-9620-12759767378c",
   "metadata": {},
   "source": [
    "## calcualte baseline"
   ]
  },
  {
   "cell_type": "code",
   "execution_count": 25,
   "id": "9351dbff-1141-4b3e-9d95-30e63f869b9e",
   "metadata": {},
   "outputs": [],
   "source": [
    "def calculate_transform(\n",
    "    picture_height: int, picture_width: int,\n",
    "    cap_height: int, vector_width: int,\n",
    "    baseline_y: int = 0, baseline_x: int = 0,\n",
    "    glyph_proportion: int = 1,\n",
    "    flip_v: bool = False\n",
    "):\n",
    "\n",
    "    vector_ymin, vector_ymax = baseline_y, cap_height\n",
    "    vector_xmin = baseline_x\n",
    "    \n",
    "    glyph_height = (glyph_proportion * picture_height) / (glyph_proportion + 2)\n",
    "    padding_y = (picture_height - glyph_height) / 2\n",
    "\n",
    "    glyph_ymin, glyph_ymax = padding_y, padding_y + glyph_height\n",
    "    \n",
    "    translating_y = glyph_ymin - vector_ymin\n",
    "    scaling = (glyph_ymax - glyph_ymin) / (vector_ymax - vector_ymin)\n",
    "\n",
    "    padding_x = (picture_width - vector_width * scaling) / 2\n",
    "    glyph_xmin = (picture_width - padding_x) / 2\n",
    "    glyph_width = vector_width * scaling\n",
    "    translating_x = glyph_xmin - vector_xmin + (picture_width - glyph_width) / 2\n",
    "    print('glyph_xmin', glyph_xmin, 'picture_width', picture_width, 'glyph_width', glyph_width)\n",
    "\n",
    "    return (\n",
    "        (picture_width - translating_x, picture_height - translating_y),\n",
    "        (scaling, scaling if not flip_v else -scaling)\n",
    "    )"
   ]
  },
  {
   "cell_type": "markdown",
   "id": "a59fa30a-e69b-4e28-a6cf-0a2395cc7299",
   "metadata": {},
   "source": [
    "### calculating experiments"
   ]
  },
  {
   "cell_type": "code",
   "execution_count": 29,
   "id": "6d694689-cc02-42eb-bd0f-e98149230907",
   "metadata": {},
   "outputs": [
    {
     "data": {
      "text/plain": [
       "[(78,\n",
       "  Glyph(d='M231 377l-46 -119h132v332h-3q-20 -54 -41.5 -107t-41.5 -106zM-1 0l264 656h319v-70h-189v-205h147v-71h-147v-239h198v-71h-274v191h-158l-73 -191h-87zM391 697l-36 42l141 128l47 -55z', glyph_name='AEacute', unicode='Ǽ', attrs={}))]"
      ]
     },
     "execution_count": 29,
     "metadata": {},
     "output_type": "execute_result"
    }
   ],
   "source": [
    "[(i, glyph) for i, glyph in enumerate(font_processor.glyphs) if glyph.glyph_name=='AEacute']"
   ]
  },
  {
   "cell_type": "code",
   "execution_count": 31,
   "id": "b26c4f01-6515-45a8-9149-beaa197bc8e9",
   "metadata": {},
   "outputs": [
    {
     "name": "stdout",
     "output_type": "stream",
     "text": [
      "(591.0, -1.0, 867.0, 0.0)\n",
      "\n",
      "            <svg\n",
      "                xmlns='http://www.w3.org/2000/svg'\n",
      "                xmlns:xlink='http://www.w3.org/1999/xlink'\n",
      "                width='128' height='128'\n",
      "                viewPort='0 0 128 128'\n",
      "            >\n",
      "                <rect width='128' height='128' fill='#fff' />\n",
      "                <path\n",
      "                    d='M231 377l-46 -119h132v332h-3q-20 -54 -41.5 -107t-41.5 -106zM-1 0l264 656h319v-70h-189v-205h147v-71h-147v-239h198v-71h-274v191h-158l-73 -191h-87zM391 697l-36 42l141 128l47 -55z'\n",
      "                    fill='#000'\n",
      "                    transform='translate(20.44752,128.0) scale(0.14764,-0.14764)'\n",
      "                />\n",
      "            </svg>\n",
      "        \n"
     ]
    },
    {
     "data": {
      "text/plain": [
       "<matplotlib.image.AxesImage at 0x7fadce04c6d0>"
      ]
     },
     "execution_count": 31,
     "metadata": {},
     "output_type": "execute_result"
    },
    {
     "data": {
      "image/png": "[encoded data removed]",
      "text/plain": [
       "<Figure size 640x480 with 1 Axes>"
      ]
     },
     "metadata": {},
     "output_type": "display_data"
    }
   ],
   "source": [
    "plt.imshow(\n",
    "    font_processor.glyph2array(font_processor.glyphs[78])\n",
    ")"
   ]
  },
  {
   "cell_type": "code",
   "execution_count": 30,
   "id": "38064f67-2673-48bd-9617-e640d54fe4b4",
   "metadata": {},
   "outputs": [
    {
     "data": {
      "text/plain": [
       "Glyph(d='M231 377l-46 -119h132v332h-3q-20 -54 -41.5 -107t-41.5 -106zM-1 0l264 656h319v-70h-189v-205h147v-71h-147v-239h198v-71h-274v191h-158l-73 -191h-87zM391 697l-36 42l141 128l47 -55z', glyph_name='AEacute', unicode='Ǽ', attrs={})"
      ]
     },
     "execution_count": 30,
     "metadata": {},
     "output_type": "execute_result"
    }
   ],
   "source": [
    "font_processor.glyphs[78]"
   ]
  },
  {
   "cell_type": "code",
   "execution_count": 32,
   "id": "35d9be59-772a-4cf5-8cf9-76fd193ecbdf",
   "metadata": {},
   "outputs": [
    {
     "name": "stdout",
     "output_type": "stream",
     "text": [
      "glyph_xmin 46.09756097560976 picture_width 128 glyph_width 56.39024390243903\n"
     ]
    },
    {
     "data": {
      "text/plain": [
       "((46.09756097560975, 85.33333333333333),\n",
       " (0.06504065040650407, -0.06504065040650407))"
      ]
     },
     "execution_count": 32,
     "metadata": {},
     "output_type": "execute_result"
    }
   ],
   "source": [
    "calculate_transform(\n",
    "    picture_height=128, picture_width=128,\n",
    "    cap_height=font_processor._font.capHeight, vector_width=867,\n",
    "    baseline_y=0, glyph_proportion=1,\n",
    "    flip_v=True\n",
    ")"
   ]
  },
  {
   "cell_type": "code",
   "execution_count": null,
   "id": "7e3ae5a1-d3c7-4974-9fb4-307e54a392a7",
   "metadata": {},
   "outputs": [],
   "source": [
    "font_processor._font"
   ]
  },
  {
   "cell_type": "code",
   "execution_count": 22,
   "id": "3f190ad2-6eac-4c04-abd2-34183e4b71d6",
   "metadata": {},
   "outputs": [
    {
     "data": {
      "text/plain": [
       "656.0"
      ]
     },
     "execution_count": 22,
     "metadata": {},
     "output_type": "execute_result"
    }
   ],
   "source": [
    "font_processor._font.capHeight"
   ]
  },
  {
   "cell_type": "code",
   "execution_count": 25,
   "id": "3201c4ac-e9bb-44e0-a1e8-940f4f0b201a",
   "metadata": {},
   "outputs": [],
   "source": [
    "picture_height = 128"
   ]
  },
  {
   "cell_type": "code",
   "execution_count": 33,
   "id": "d8a01c63-6197-4cff-a3e3-4922e24a1bc8",
   "metadata": {},
   "outputs": [],
   "source": [
    "p = 2"
   ]
  },
  {
   "cell_type": "code",
   "execution_count": 45,
   "id": "1080eca2-d273-4cbb-b5a1-482435a99e20",
   "metadata": {},
   "outputs": [
    {
     "data": {
      "text/plain": [
       "64.0"
      ]
     },
     "execution_count": 45,
     "metadata": {},
     "output_type": "execute_result"
    }
   ],
   "source": [
    "glyph_height = (p * picture_height) / (p + 2)\n",
    "\n",
    "glyph_height"
   ]
  },
  {
   "cell_type": "code",
   "execution_count": 46,
   "id": "2760ffd6-8998-4348-b8f7-37fa0902da39",
   "metadata": {},
   "outputs": [
    {
     "data": {
      "text/plain": [
       "32.0"
      ]
     },
     "execution_count": 46,
     "metadata": {},
     "output_type": "execute_result"
    }
   ],
   "source": [
    "gutter = (picture_height - glyph_height) / 2\n",
    "\n",
    "gutter"
   ]
  },
  {
   "cell_type": "code",
   "execution_count": 47,
   "id": "f6bbeb91-1e7e-4e58-954a-f582dc56bb9d",
   "metadata": {},
   "outputs": [
    {
     "data": {
      "text/plain": [
       "(0, 656.0)"
      ]
     },
     "execution_count": 47,
     "metadata": {},
     "output_type": "execute_result"
    }
   ],
   "source": [
    "vector_ymin, vector_ymax = 0, font_processor._font.capHeight\n",
    "\n",
    "vector_ymin, vector_ymax"
   ]
  },
  {
   "cell_type": "code",
   "execution_count": 50,
   "id": "04b210f8-914a-4ea8-ac94-dcbfeeb454f0",
   "metadata": {},
   "outputs": [
    {
     "data": {
      "text/plain": [
       "(32.0, 96.0)"
      ]
     },
     "execution_count": 50,
     "metadata": {},
     "output_type": "execute_result"
    }
   ],
   "source": [
    "glyph_ymin, glyph_ymax = gutter, gutter + glyph_height\n",
    "\n",
    "glyph_ymin, glyph_ymax"
   ]
  },
  {
   "cell_type": "code",
   "execution_count": 51,
   "id": "8ae775a6-9c21-471d-bd5b-634481bd641b",
   "metadata": {},
   "outputs": [
    {
     "data": {
      "text/plain": [
       "32.0"
      ]
     },
     "execution_count": 51,
     "metadata": {},
     "output_type": "execute_result"
    }
   ],
   "source": [
    "translate_y = glyph_ymin - vector_ymin\n",
    "\n",
    "translate_y"
   ]
  },
  {
   "cell_type": "code",
   "execution_count": 52,
   "id": "0773cdba-468e-4f8e-a1fc-599619aa9133",
   "metadata": {},
   "outputs": [
    {
     "data": {
      "text/plain": [
       "0.0975609756097561"
      ]
     },
     "execution_count": 52,
     "metadata": {},
     "output_type": "execute_result"
    }
   ],
   "source": [
    "scale_y = (glyph_ymax - glyph_ymin) / (vector_ymax - vector_ymin)\n",
    "\n",
    "scale_y"
   ]
  },
  {
   "cell_type": "code",
   "execution_count": 53,
   "id": "e530028f-2d64-4c93-a0d4-f002ccde38b0",
   "metadata": {},
   "outputs": [],
   "source": [
    "def transformation(x):\n",
    "    return x * scale_y + translate_y"
   ]
  },
  {
   "cell_type": "code",
   "execution_count": 56,
   "id": "19094b78-d577-4d55-986e-fb4f27d35ddf",
   "metadata": {},
   "outputs": [
    {
     "data": {
      "text/plain": [
       "96.0"
      ]
     },
     "execution_count": 56,
     "metadata": {},
     "output_type": "execute_result"
    }
   ],
   "source": [
    "transformation(656)"
   ]
  },
  {
   "cell_type": "code",
   "execution_count": 62,
   "id": "6cef3ec9-cbff-41da-b454-fd974bd4886b",
   "metadata": {},
   "outputs": [
    {
     "data": {
      "text/plain": [
       "{'AccentBaseHeight': 486,\n",
       " 'AxisHeight': 330,\n",
       " 'DelimitedSubFormulaMinHeight': 1500,\n",
       " 'DisplayOperatorMinHeight': 0,\n",
       " 'FlattenedAccentBaseHeight': 656,\n",
       " 'FractionDenominatorDisplayStyleGapMin': 150,\n",
       " 'FractionDenominatorDisplayStyleShiftDown': 0,\n",
       " 'FractionDenominatorGapMin': 50,\n",
       " 'FractionDenominatorShiftDown': 0,\n",
       " 'FractionNumeratorDisplayStyleGapMin': 150,\n",
       " 'FractionNumeratorDisplayStyleShiftUp': 0,\n",
       " 'FractionNumeratorGapMin': 50,\n",
       " 'FractionNumeratorShiftUp': 0,\n",
       " 'FractionRuleThickness': 50,\n",
       " 'LowerLimitBaselineDropMin': 0,\n",
       " 'LowerLimitGapMin': 0,\n",
       " 'MathLeading': 0,\n",
       " 'MinConnectorOverlap': 20,\n",
       " 'OverbarExtraAscender': 50,\n",
       " 'OverbarRuleThickness': 50,\n",
       " 'OverbarVerticalGap': 150,\n",
       " 'RadicalDegreeBottomRaisePercent': 60,\n",
       " 'RadicalDisplayStyleVerticalGap': 171,\n",
       " 'RadicalExtraAscender': 50,\n",
       " 'RadicalKernAfterDegree': -555,\n",
       " 'RadicalKernBeforeDegree': 277,\n",
       " 'RadicalRuleThickness': 50,\n",
       " 'RadicalVerticalGap': 50,\n",
       " 'ScriptPercentScaleDown': 80,\n",
       " 'ScriptScriptPercentScaleDown': 60,\n",
       " 'SkewedFractionHorizontalGap': 0,\n",
       " 'SkewedFractionVerticalGap': 0,\n",
       " 'SpaceAfterScript': 41,\n",
       " 'StackBottomDisplayStyleShiftDown': 0,\n",
       " 'StackBottomShiftDown': 0,\n",
       " 'StackDisplayStyleGapMin': 350,\n",
       " 'StackGapMin': 150,\n",
       " 'StackTopDisplayStyleShiftUp': 0,\n",
       " 'StackTopShiftUp': 0,\n",
       " 'StretchStackBottomShiftDown': 0,\n",
       " 'StretchStackGapAboveMin': 0,\n",
       " 'StretchStackGapBelowMin': 0,\n",
       " 'StretchStackTopShiftUp': 0,\n",
       " 'SubSuperscriptGapMin': 200,\n",
       " 'SubscriptBaselineDropMin': 0,\n",
       " 'SubscriptShiftDown': 0,\n",
       " 'SubscriptTopMax': 486,\n",
       " 'SuperscriptBaselineDropMax': 0,\n",
       " 'SuperscriptBottomMaxWithSubscript': 486,\n",
       " 'SuperscriptBottomMin': 486,\n",
       " 'SuperscriptShiftUp': 0,\n",
       " 'SuperscriptShiftUpCramped': 0,\n",
       " 'UnderbarExtraDescender': 50,\n",
       " 'UnderbarRuleThickness': 50,\n",
       " 'UnderbarVerticalGap': 150,\n",
       " 'UpperLimitBaselineRiseMin': 0,\n",
       " 'UpperLimitGapMin': 0,\n",
       " '__class__': fontforge.math,\n",
       " '__delattr__': <method-wrapper '__delattr__' of fontforge.math object at 0x7f1767cccc50>,\n",
       " '__dir__': <function math.__dir__()>,\n",
       " '__doc__': 'fontforge math objects',\n",
       " '__eq__': <method-wrapper '__eq__' of fontforge.math object at 0x7f1767cccc50>,\n",
       " '__format__': <function math.__format__(format_spec, /)>,\n",
       " '__ge__': <method-wrapper '__ge__' of fontforge.math object at 0x7f1767cccc50>,\n",
       " '__getattribute__': <method-wrapper '__getattribute__' of fontforge.math object at 0x7f1767cccc50>,\n",
       " '__gt__': <method-wrapper '__gt__' of fontforge.math object at 0x7f1767cccc50>,\n",
       " '__hash__': <method-wrapper '__hash__' of fontforge.math object at 0x7f1767cccc50>,\n",
       " '__init__': <method-wrapper '__init__' of fontforge.math object at 0x7f1767cccc50>,\n",
       " '__init_subclass__': <function math.__init_subclass__>,\n",
       " '__le__': <method-wrapper '__le__' of fontforge.math object at 0x7f1767cccc50>,\n",
       " '__lt__': <method-wrapper '__lt__' of fontforge.math object at 0x7f1767cccc50>,\n",
       " '__ne__': <method-wrapper '__ne__' of fontforge.math object at 0x7f1767cccc50>,\n",
       " '__new__': <function object.__new__(*args, **kwargs)>,\n",
       " '__reduce__': <function math.__reduce__()>,\n",
       " '__reduce_ex__': <function math.__reduce_ex__(protocol, /)>,\n",
       " '__repr__': <method-wrapper '__repr__' of fontforge.math object at 0x7f1767cccc50>,\n",
       " '__setattr__': <method-wrapper '__setattr__' of fontforge.math object at 0x7f1767cccc50>,\n",
       " '__sizeof__': <function math.__sizeof__()>,\n",
       " '__str__': <method-wrapper '__str__' of fontforge.math object at 0x7f1767cccc50>,\n",
       " '__subclasshook__': <function math.__subclasshook__>,\n",
       " 'clear': <function math.clear>,\n",
       " 'exists': <function math.exists>}"
      ]
     },
     "execution_count": 62,
     "metadata": {},
     "output_type": "execute_result"
    }
   ],
   "source": [
    "{\n",
    "    attr: getattr(font_processor._font.math, attr)\n",
    "    for attr in dir(font_processor._font.math)\n",
    "}\n"
   ]
  },
  {
   "cell_type": "code",
   "execution_count": 65,
   "id": "2a935dc4-900e-4b24-98d5-30cf28169034",
   "metadata": {},
   "outputs": [
    {
     "data": {
      "text/plain": [
       "{'__class__': fontforge.font,\n",
       " '__contains__': <method-wrapper '__contains__' of fontforge.font object at 0x7f1768612930>,\n",
       " '__delattr__': <method-wrapper '__delattr__' of fontforge.font object at 0x7f1768612930>,\n",
       " '__dir__': <function font.__dir__()>,\n",
       " '__doc__': 'FontForge Font object',\n",
       " '__eq__': <method-wrapper '__eq__' of fontforge.font object at 0x7f1768612930>,\n",
       " '__format__': <function font.__format__(format_spec, /)>,\n",
       " '__ge__': <method-wrapper '__ge__' of fontforge.font object at 0x7f1768612930>,\n",
       " '__getattribute__': <method-wrapper '__getattribute__' of fontforge.font object at 0x7f1768612930>,\n",
       " '__getitem__': <method-wrapper '__getitem__' of fontforge.font object at 0x7f1768612930>,\n",
       " '__gt__': <method-wrapper '__gt__' of fontforge.font object at 0x7f1768612930>,\n",
       " '__hash__': <method-wrapper '__hash__' of fontforge.font object at 0x7f1768612930>,\n",
       " '__init__': <method-wrapper '__init__' of fontforge.font object at 0x7f1768612930>,\n",
       " '__init_subclass__': <function font.__init_subclass__>,\n",
       " '__iter__': <method-wrapper '__iter__' of fontforge.font object at 0x7f1768612930>,\n",
       " '__le__': <method-wrapper '__le__' of fontforge.font object at 0x7f1768612930>,\n",
       " '__len__': <method-wrapper '__len__' of fontforge.font object at 0x7f1768612930>,\n",
       " '__lt__': <method-wrapper '__lt__' of fontforge.font object at 0x7f1768612930>,\n",
       " '__ne__': <method-wrapper '__ne__' of fontforge.font object at 0x7f1768612930>,\n",
       " '__new__': <function font.__new__(*args, **kwargs)>,\n",
       " '__reduce__': <function font.__reduce__()>,\n",
       " '__reduce_ex__': <function font.__reduce_ex__(protocol, /)>,\n",
       " '__repr__': <method-wrapper '__repr__' of fontforge.font object at 0x7f1768612930>,\n",
       " '__setattr__': <method-wrapper '__setattr__' of fontforge.font object at 0x7f1768612930>,\n",
       " '__sizeof__': <function font.__sizeof__()>,\n",
       " '__str__': <method-wrapper '__str__' of fontforge.font object at 0x7f1768612930>,\n",
       " '__subclasshook__': <function font.__subclasshook__>,\n",
       " 'activeLayer': 1,\n",
       " 'addAnchorClass': <function font.addAnchorClass>,\n",
       " 'addContextualSubtable': <function font.addContextualSubtable>,\n",
       " 'addExtrema': <function font.addExtrema>,\n",
       " 'addKerningClass': <function font.addKerningClass>,\n",
       " 'addLookup': <function font.addLookup>,\n",
       " 'addLookupSubtable': <function font.addLookupSubtable>,\n",
       " 'addSmallCaps': <function font.addSmallCaps>,\n",
       " 'alterKerningClass': <function font.alterKerningClass>,\n",
       " 'appendSFNTName': <function font.appendSFNTName>,\n",
       " 'ascent': 750,\n",
       " 'autoHint': <function font.autoHint>,\n",
       " 'autoInstr': <function font.autoInstr>,\n",
       " 'autoKern': <function font.autoKern>,\n",
       " 'autoTrace': <function font.autoTrace>,\n",
       " 'autoWidth': <function font.autoWidth>,\n",
       " 'bitmapSizes': (),\n",
       " 'build': <function font.build>,\n",
       " 'buildOrReplaceAALTFeatures': <function font.buildOrReplaceAALTFeatures>,\n",
       " 'canonicalContours': <function font.canonicalContours>,\n",
       " 'canonicalStart': <function font.canonicalStart>,\n",
       " 'capHeight': 656.0,\n",
       " 'changeWeight': <function font.changeWeight>,\n",
       " 'changed': 0,\n",
       " 'cidConvertByCmap': <function font.cidConvertByCmap>,\n",
       " 'cidConvertTo': <function font.cidConvertTo>,\n",
       " 'cidFlatten': <function font.cidFlatten>,\n",
       " 'cidFlattenByCMap': <function font.cidFlattenByCMap>,\n",
       " 'cidInsertBlankSubFont': <function font.cidInsertBlankSubFont>,\n",
       " 'cidRemoveSubFont': <function font.cidRemoveSubFont>,\n",
       " 'cidcopyright': None,\n",
       " 'cidfamilyname': None,\n",
       " 'cidfontname': None,\n",
       " 'cidfullname': None,\n",
       " 'cidordering': None,\n",
       " 'cidregistry': None,\n",
       " 'cidsubfont': -1,\n",
       " 'cidsubfontcnt': 0,\n",
       " 'cidsubfontnames': None,\n",
       " 'cidsupplement': None,\n",
       " 'cidversion': None,\n",
       " 'cidweight': None,\n",
       " 'clear': <function font.clear>,\n",
       " 'clearSpecialData': <function font.clearSpecialData>,\n",
       " 'close': <function font.close>,\n",
       " 'cluster': <function font.cluster>,\n",
       " 'comment': None,\n",
       " 'compareFonts': <function font.compareFonts>,\n",
       " 'condenseExtend': <function font.condenseExtend>,\n",
       " 'copy': <function font.copy>,\n",
       " 'copyReference': <function font.copyReference>,\n",
       " 'copyright': None,\n",
       " 'correctDirection': <function font.correctDirection>,\n",
       " 'correctReferences': <function font.correctReferences>,\n",
       " 'createChar': <function font.createChar>,\n",
       " 'createInterpolatedGlyph': <function font.createInterpolatedGlyph>,\n",
       " 'createMappedChar': <function font.createMappedChar>,\n",
       " 'creationtime': '2023/08/13 21:12:41',\n",
       " 'cut': <function font.cut>,\n",
       " 'cvt': <fontforge.cvt at 0x7f1767ccd5b0>,\n",
       " 'default_base_filename': None,\n",
       " 'descent': 250,\n",
       " 'design_size': 0.0,\n",
       " 'em': 1000,\n",
       " 'encoding': 'Original',\n",
       " 'familyname': 'Source Code Pro',\n",
       " 'find': <function font.find>,\n",
       " 'findEncodingSlot': <function font.findEncodingSlot>,\n",
       " 'fondname': None,\n",
       " 'fontlog': None,\n",
       " 'fontname': 'SourceCodePro-Regular',\n",
       " 'fullname': 'SourceCodePro-Regular',\n",
       " 'gasp': (),\n",
       " 'gasp_version': 0,\n",
       " 'generate': <function font.generate>,\n",
       " 'generateFeatureFile': <function font.generateFeatureFile>,\n",
       " 'generateTtc': <function font.generateTtc>,\n",
       " 'genericGlyphChange': <function font.genericGlyphChange>,\n",
       " 'getKerningClass': <function font.getKerningClass>,\n",
       " 'getLookupInfo': <function font.getLookupInfo>,\n",
       " 'getLookupOfSubtable': <function font.getLookupOfSubtable>,\n",
       " 'getLookupSubtableAnchorClasses': <function font.getLookupSubtableAnchorClasses>,\n",
       " 'getLookupSubtables': <function font.getLookupSubtables>,\n",
       " 'getSubtableOfAnchor': <function font.getSubtableOfAnchor>,\n",
       " 'getTableData': <function font.getTableData>,\n",
       " 'glyphs': <function font.glyphs>,\n",
       " 'gpos_lookups': (),\n",
       " 'gsub_lookups': (),\n",
       " 'guide': <fontforge.layer at 0x7f1764c16f10>,\n",
       " 'hasvmetrics': 0,\n",
       " 'head_optimized_for_cleartype': 0,\n",
       " 'hhea_ascent': 0,\n",
       " 'hhea_ascent_add': 1,\n",
       " 'hhea_descent': 0,\n",
       " 'hhea_descent_add': 1,\n",
       " 'hhea_linegap': 90,\n",
       " 'horizontalBaseline': None,\n",
       " 'importBitmaps': <function font.importBitmaps>,\n",
       " 'importLookups': <function font.importLookups>,\n",
       " 'interpolateFonts': <function font.interpolateFonts>,\n",
       " 'intersect': <function font.intersect>,\n",
       " 'isKerningClass': <function font.isKerningClass>,\n",
       " 'isVerticalKerning': <function font.isVerticalKerning>,\n",
       " 'is_cid': 0,\n",
       " 'is_quadratic': 1,\n",
       " 'iscid': 0,\n",
       " 'isnew': 0,\n",
       " 'italicangle': 0.0,\n",
       " 'italicize': <function font.italicize>,\n",
       " 'layer_cnt': 2,\n",
       " 'layers': <fontforge.layerinfo_array at 0x7f1767ccc030>,\n",
       " 'loadState': 0,\n",
       " 'lookupSetFeatureList': <function font.lookupSetFeatureList>,\n",
       " 'lookupSetFlags': <function font.lookupSetFlags>,\n",
       " 'lookupSetStoreLigatureInAfm': <function font.lookupSetStoreLigatureInAfm>,\n",
       " 'macstyle': -1,\n",
       " 'markClasses': None,\n",
       " 'math': <fontforge.math at 0x7f1767cccc50>,\n",
       " 'maxp_FDEFs': 0,\n",
       " 'maxp_IDEFs': 0,\n",
       " 'maxp_maxStackDepth': 0,\n",
       " 'maxp_storageCnt': 0,\n",
       " 'maxp_twilightPtCnt': 0,\n",
       " 'maxp_zones': 2,\n",
       " 'mergeFeature': <function font.mergeFeature>,\n",
       " 'mergeFonts': <function font.mergeFonts>,\n",
       " 'mergeKern': <function font.mergeKern>,\n",
       " 'mergeLookupSubtables': <function font.mergeLookupSubtables>,\n",
       " 'mergeLookups': <function font.mergeLookups>,\n",
       " 'multilayer': 0,\n",
       " 'nltransform': <function font.nltransform>,\n",
       " 'onlybitmaps': 0,\n",
       " 'os2_capheight': 0,\n",
       " 'os2_codepages': (1610613151, -539557888),\n",
       " 'os2_family_class': 0,\n",
       " 'os2_fstype': -1,\n",
       " 'os2_panose': (2, 11, 5, 9, 3, 4, 3, 2, 2, 4),\n",
       " 'os2_strikeypos': 0,\n",
       " 'os2_strikeysize': 0,\n",
       " 'os2_stylemap': -1,\n",
       " 'os2_subxoff': 0,\n",
       " 'os2_subxsize': 0,\n",
       " 'os2_subyoff': 0,\n",
       " 'os2_subysize': 0,\n",
       " 'os2_supxoff': 0,\n",
       " 'os2_supxsize': 0,\n",
       " 'os2_supyoff': 0,\n",
       " 'os2_supysize': 0,\n",
       " 'os2_typoascent': 0,\n",
       " 'os2_typoascent_add': 1,\n",
       " 'os2_typodescent': 0,\n",
       " 'os2_typodescent_add': 1,\n",
       " 'os2_typolinegap': 90,\n",
       " 'os2_unicoderanges': (-536870145, 1375795451, 0, 0),\n",
       " 'os2_use_typo_metrics': 0,\n",
       " 'os2_vendor': 'PfEd',\n",
       " 'os2_version': 0,\n",
       " 'os2_weight': 400,\n",
       " 'os2_weight_width_slope_only': 0,\n",
       " 'os2_width': 5,\n",
       " 'os2_winascent': 0,\n",
       " 'os2_winascent_add': 1,\n",
       " 'os2_windescent': 0,\n",
       " 'os2_windescent_add': 1,\n",
       " 'os2_xheight': 0,\n",
       " 'paste': <function font.paste>,\n",
       " 'pasteInto': <function font.pasteInto>,\n",
       " 'path': '/mnt/d/grad23/fonty/notebooks/SourceCodePro-Regular.ttf',\n",
       " 'persistant': None,\n",
       " 'persistent': None,\n",
       " 'printSample': <function font.printSample>,\n",
       " 'private': <fontforge.private at 0x7f1767ccdd70>,\n",
       " 'privateState': 65536,\n",
       " 'randomText': <function font.randomText>,\n",
       " 'reencode': <function font.reencode>,\n",
       " 'regenBitmaps': <function font.regenBitmaps>,\n",
       " 'removeAnchorClass': <function font.removeAnchorClass>,\n",
       " 'removeGlyph': <function font.removeGlyph>,\n",
       " 'removeLookup': <function font.removeLookup>,\n",
       " 'removeLookupSubtable': <function font.removeLookupSubtable>,\n",
       " 'removeOverlap': <function font.removeOverlap>,\n",
       " 'replaceAll': <function font.replaceAll>,\n",
       " 'replaceWithReference': <function font.replaceWithReference>,\n",
       " 'revert': <function font.revert>,\n",
       " 'revertFromBackup': <function font.revertFromBackup>,\n",
       " 'round': <function font.round>,\n",
       " 'save': <function font.save>,\n",
       " 'saveNamelist': <function font.saveNamelist>,\n",
       " 'selection': <fontforge.selection at 0x7f1767ccf970>,\n",
       " 'setTableData': <function font.setTableData>,\n",
       " 'sfd_path': None,\n",
       " 'sfntRevision': None,\n",
       " 'sfnt_names': (('English (US)', 'Family', 'Source Code Pro'),\n",
       "  ('English (US)', 'SubFamily', 'Regular'),\n",
       "  ('English (US)',\n",
       "   'UniqueID',\n",
       "   'FontForge 2.0 : SourceCodePro-Regular : 15-8-2023'),\n",
       "  ('English (US)', 'Fullname', 'SourceCodePro-Regular'),\n",
       "  ('English (US)', 'Version', 'Version 1.0'),\n",
       "  ('English (US)', 'PostScriptName', 'SourceCodePro-Regular')),\n",
       " 'simplify': <function font.simplify>,\n",
       " 'size_feature': None,\n",
       " 'stroke': <function font.stroke>,\n",
       " 'strokedfont': 0,\n",
       " 'strokewidth': 0.0,\n",
       " 'temporary': None,\n",
       " 'texparameters': ('unset',\n",
       "  0.0,\n",
       "  600.0,\n",
       "  300.0,\n",
       "  200.0,\n",
       "  486.0,\n",
       "  1000.0,\n",
       "  200.0,\n",
       "  747.0,\n",
       "  424.0,\n",
       "  474.0,\n",
       "  756.0,\n",
       "  375.0,\n",
       "  413.0,\n",
       "  363.0,\n",
       "  289.0,\n",
       "  150.0,\n",
       "  309.0,\n",
       "  386.0,\n",
       "  50.0,\n",
       "  2390.0,\n",
       "  1010.0,\n",
       "  250.0),\n",
       " 'transform': <function font.transform>,\n",
       " 'uniqueid': 0,\n",
       " 'unlinkReferences': <function font.unlinkReferences>,\n",
       " 'upos': -75.0,\n",
       " 'userdata': None,\n",
       " 'uwidth': 50.0,\n",
       " 'validate': <function font.validate>,\n",
       " 'version': None,\n",
       " 'verticalBaseline': None,\n",
       " 'vertical_origin': 0,\n",
       " 'vhea_linegap': 90,\n",
       " 'weight': 'Regular',\n",
       " 'woffMajor': None,\n",
       " 'woffMetadata': None,\n",
       " 'woffMinor': None,\n",
       " 'xHeight': 486.0,\n",
       " 'xuid': '[1021 845 254739876 5344705]'}"
      ]
     },
     "execution_count": 65,
     "metadata": {},
     "output_type": "execute_result"
    }
   ],
   "source": [
    "{\n",
    "    attr: getattr(font_processor._font.canonicalContours(), attr)\n",
    "    for attr in dir(font_processor._font.canonicalContours())\n",
    "}\n"
   ]
  },
  {
   "cell_type": "code",
   "execution_count": 64,
   "id": "87f7888e-b6ab-4a75-b6a0-9ee06ce90786",
   "metadata": {},
   "outputs": [
    {
     "data": {
      "text/plain": [
       "<fontforge.font at 0x0x7f1768612930 \"SourceCodePro-Regular\">"
      ]
     },
     "execution_count": 64,
     "metadata": {},
     "output_type": "execute_result"
    }
   ],
   "source": [
    "font_processor._font.canonicalContours()"
   ]
  }
 ],
 "metadata": {
  "kernelspec": {
   "display_name": "Python 3 (ipykernel)",
   "language": "python",
   "name": "python3"
  },
  "language_info": {
   "codemirror_mode": {
    "name": "ipython",
    "version": 3
   },
   "file_extension": ".py",
   "mimetype": "text/x-python",
   "name": "python",
   "nbconvert_exporter": "python",
   "pygments_lexer": "ipython3",
   "version": "3.10.6"
  }
 },
 "nbformat": 4,
 "nbformat_minor": 5
}
