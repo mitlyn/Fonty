{
 "cells": [
  {
   "cell_type": "code",
   "execution_count": null,
   "id": "278c0698-1e82-4482-abd8-735777cc3d22",
   "metadata": {},
   "outputs": [],
   "source": [
    "import os\n",
    "import sys\n",
    "import numpy as np\n",
    "from pickle import dumps\n",
    "from fonty.font import Font\n",
    "from bson.binary import Binary\n",
    "from pymongo import MongoClient\n",
    "\n",
    "sys.path.insert(1, os.path.join(sys.path[0], '..', 'fonty'))\n",
    "\n",
    "SIZE = 64"
   ]
  },
  {
   "cell_type": "code",
   "execution_count": null,
   "id": "2e8d800b",
   "metadata": {},
   "outputs": [],
   "source": [
    "cli = MongoClient(\n",
    "    'mongodb+srv://fonty.hquocfa.mongodb.net/?authSource=%24external&authMechanism=MONGODB-X509&retryWrites=true&w=majority',\n",
    "    tlsCertificateKeyFile='auth/X509-cert-6658948524510096383.pem',\n",
    "    tls=True,\n",
    ")\n",
    "\n",
    "glyph_col = cli.fonty.glyphs\n",
    "font_col = cli.fonty.fonts"
   ]
  },
  {
   "cell_type": "code",
   "execution_count": null,
   "id": "d60e7705",
   "metadata": {},
   "outputs": [],
   "source": [
    "def Payload(font: Font, lat: np.ndarray, cyr: np.ndarray):\n",
    "    \"\"\"Returns a database payload with arrays stored in binary form.\"\"\"\n",
    "\n",
    "    return {\n",
    "        'name': font.font_name,\n",
    "        'panose': font.panose,\n",
    "        'lat': Binary(dumps(lat, protocol=2)),\n",
    "        'cyr': Binary(dumps(cyr, protocol=2)),\n",
    "        'size': SIZE,\n",
    "    }\n"
   ]
  },
  {
   "cell_type": "code",
   "execution_count": null,
   "id": "87866b36",
   "metadata": {},
   "outputs": [],
   "source": [
    "\n",
    "def getIds(col):\n",
    "    for x in col.find({}, {'_id': True}):\n",
    "        yield x['_id']\n",
    "\n",
    "\n",
    "def getFonts(col, ids):\n",
    "    for id in ids:\n",
    "        yield Font(col, {'_id': id}, SIZE, SIZE)\n"
   ]
  },
  {
   "cell_type": "markdown",
   "id": "3870e3d7",
   "metadata": {},
   "source": [
    "Do all alphabet glyphs have the same indexing in different fonts?\n",
    "\n",
    "- Latin Characters: 32-57, 62-87\n",
    "- Cyrillic Characters: 90-155\n",
    "\n",
    "Code for manual inspection:\n",
    "```python\n",
    "import pylab as plt\n",
    "\n",
    "for i in range(0, 155):\n",
    "    print(i)\n",
    "    plt.imshow(font.glyphs[i].np_array)\n",
    "    plt.show()\n",
    "```"
   ]
  },
  {
   "cell_type": "code",
   "execution_count": null,
   "id": "9a7e2771",
   "metadata": {},
   "outputs": [],
   "source": [
    "def getPayloads(fonts):\n",
    "    for font in fonts:\n",
    "        try:\n",
    "            lat = []\n",
    "            lat.extend(font.glyphs[i].np_array for i in range(32, 58))\n",
    "            lat.extend(font.glyphs[i].np_array for i in range(62, 88))\n",
    "            lat = np.array(lat)[:,:,:,0].reshape(-1)\n",
    "        except:\n",
    "            lat = np.empty(0)\n",
    "\n",
    "        try:\n",
    "            cyr = []\n",
    "            cyr.extend(font.glyphs[i].np_array for i in range(90, 156))\n",
    "            cyr = np.array(cyr)[:,:,:,0].reshape(-1)\n",
    "        except:\n",
    "            cyr = np.empty(0)\n",
    "\n",
    "        yield Payload(font, lat, cyr)\n"
   ]
  },
  {
   "cell_type": "code",
   "execution_count": null,
   "id": "5322934f",
   "metadata": {},
   "outputs": [],
   "source": [
    "ids = getIds(font_col)\n",
    "fonts = getFonts(font_col, ids)\n",
    "payloads = getPayloads(fonts)"
   ]
  },
  {
   "cell_type": "code",
   "execution_count": null,
   "id": "c8ec4d53",
   "metadata": {},
   "outputs": [],
   "source": [
    "glyph_col.delete_many({'size': SIZE})\n",
    "glyph_col.insert_many(payloads)"
   ]
  }
 ],
 "metadata": {
  "kernelspec": {
   "display_name": "Python 3 (ipykernel)",
   "language": "python",
   "name": "python3"
  },
  "language_info": {
   "codemirror_mode": {
    "name": "ipython",
    "version": 3
   },
   "file_extension": ".py",
   "mimetype": "text/x-python",
   "name": "python",
   "nbconvert_exporter": "python",
   "pygments_lexer": "ipython3",
   "version": "3.10.6"
  }
 },
 "nbformat": 4,
 "nbformat_minor": 5
}
