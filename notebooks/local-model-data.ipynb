{
 "cells": [
  {
   "cell_type": "markdown",
   "id": "3d373d1c",
   "metadata": {},
   "source": [
    "### Load all rendered fonts from MongoDB and store them locally in a form of training and testing sets."
   ]
  },
  {
   "cell_type": "code",
   "execution_count": 1,
   "id": "a43719f7",
   "metadata": {},
   "outputs": [
    {
     "name": "stdout",
     "output_type": "stream",
     "text": [
      "c:\\Users\\Alex\\Code\\Fonty\n"
     ]
    }
   ],
   "source": [
    "%cd ..\n",
    "\n",
    "from pickle import dump\n",
    "from fonts.manager import Manager"
   ]
  },
  {
   "cell_type": "markdown",
   "id": "9fcb8da9",
   "metadata": {},
   "source": [
    "Initialize the font manager."
   ]
  },
  {
   "cell_type": "code",
   "execution_count": 2,
   "id": "f01548b2",
   "metadata": {},
   "outputs": [],
   "source": [
    "manager = Manager()"
   ]
  },
  {
   "cell_type": "markdown",
   "id": "e49f97b2",
   "metadata": {},
   "source": [
    "Load rendered glyph images and metadata from MongoDB."
   ]
  },
  {
   "cell_type": "code",
   "execution_count": 3,
   "id": "d242397c",
   "metadata": {},
   "outputs": [],
   "source": [
    "# TODO: load all at once and then remove the base font\n",
    "\n",
    "base_name = \"Open Sans Light\"\n",
    "\n",
    "names = manager.getNames()\n",
    "names.remove(base_name)\n",
    "\n",
    "base = manager.load(64, base_name)[base_name]\n",
    "data = manager.load(64, *names)\n",
    "\n",
    "# data = M.loadAll()"
   ]
  },
  {
   "cell_type": "markdown",
   "id": "c5c42ba0",
   "metadata": {},
   "source": [
    "Split data into train and test sets."
   ]
  },
  {
   "cell_type": "code",
   "execution_count": 4,
   "id": "c59eeb25",
   "metadata": {},
   "outputs": [],
   "source": [
    "train = []\n",
    "test = []\n",
    "\n",
    "for name in names:\n",
    "    if (len(data[name].en) == 0):\n",
    "        continue\n",
    "\n",
    "    if (len(data[name].ua) > 0):\n",
    "        train.append(data[name])\n",
    "    else:\n",
    "        test.append(data[name])"
   ]
  },
  {
   "cell_type": "markdown",
   "id": "1ac1b483",
   "metadata": {},
   "source": [
    "Save data locally using pickle."
   ]
  },
  {
   "cell_type": "code",
   "execution_count": 5,
   "id": "9d74d582",
   "metadata": {},
   "outputs": [],
   "source": [
    "with open(\"-data/base.pkl\", \"wb\") as O:\n",
    "    dump(base, O)\n",
    "\n",
    "with open(\"-data/train.pkl\", \"wb\") as O:\n",
    "    dump(train, O)\n",
    "\n",
    "with open(\"-data/test.pkl\", \"wb\") as O:\n",
    "    dump(test, O)"
   ]
  },
  {
   "cell_type": "code",
   "execution_count": null,
   "id": "2d932b88",
   "metadata": {},
   "outputs": [],
   "source": []
  }
 ],
 "metadata": {
  "kernelspec": {
   "display_name": "Python 3 (ipykernel)",
   "language": "python",
   "name": "python3"
  },
  "language_info": {
   "codemirror_mode": {
    "name": "ipython",
    "version": 3
   },
   "file_extension": ".py",
   "mimetype": "text/x-python",
   "name": "python",
   "nbconvert_exporter": "python",
   "pygments_lexer": "ipython3",
   "version": "3.9.13"
  }
 },
 "nbformat": 4,
 "nbformat_minor": 5
}
