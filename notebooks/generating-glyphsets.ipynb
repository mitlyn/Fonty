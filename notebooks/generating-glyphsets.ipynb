{
 "cells": [
  {
   "cell_type": "markdown",
   "id": "944a753f-92eb-4bc0-9be8-ee6a4b093e08",
   "metadata": {},
   "source": [
    "# generating-glyphsets\n",
    "\n",
    "Generate pictures based on defined glyph ranges"
   ]
  },
  {
   "cell_type": "markdown",
   "id": "ed7679d9-d9fd-486c-9316-95d5de1f1e94",
   "metadata": {},
   "source": [
    "## load the font"
   ]
  },
  {
   "cell_type": "code",
   "execution_count": 1,
   "id": "f1267b3c-c6bc-46ab-9760-704af3a0844f",
   "metadata": {},
   "outputs": [],
   "source": [
    "import os\n",
    "import sys"
   ]
  },
  {
   "cell_type": "code",
   "execution_count": 2,
   "id": "05e24ce2-936f-4e57-9ec3-301e0812497e",
   "metadata": {},
   "outputs": [],
   "source": [
    "sys.path.insert(1, os.path.join(sys.path[0], '..', 'fonty'))"
   ]
  },
  {
   "cell_type": "code",
   "execution_count": 3,
   "id": "c1de8660-5f01-4885-8a36-5a8187bb05d2",
   "metadata": {},
   "outputs": [],
   "source": [
    "sys.path.append('/usr/lib/python3/dist-packages/')\n",
    "import font_processing"
   ]
  },
  {
   "cell_type": "code",
   "execution_count": 4,
   "id": "9bb3cd8f-df0e-4b34-af7b-068d058a7ff7",
   "metadata": {},
   "outputs": [
    {
     "name": "stderr",
     "output_type": "stream",
     "text": [
      "The following table(s) in the font have been ignored by FontForge\n",
      "  Ignoring 'DSIG' digital signature table\n",
      "The glyph named macron is mapped to U+02C9.\n",
      "But its name indicates it should be mapped to U+00AF.\n"
     ]
    }
   ],
   "source": [
    "font_processor = font_processing.FontProcessor \\\n",
    "    .fromUrl('https://github.com/googlefonts/opensans/raw/main/fonts/ttf/OpenSans-Regular.ttf', flip_v=True)"
   ]
  },
  {
   "cell_type": "markdown",
   "id": "f26c126d-f6b3-4321-9cc0-ab870020cd0d",
   "metadata": {},
   "source": [
    "## look at the font"
   ]
  },
  {
   "cell_type": "code",
   "execution_count": 16,
   "id": "7654fece-4201-4c14-ba60-2c871f5a13ac",
   "metadata": {},
   "outputs": [
    {
     "data": {
      "text/plain": [
       "[('I', 'I', 73, 'M200 0v146...'),\n",
       " ('J', 'J', 74, 'M-11 -385q...'),\n",
       " ('K', 'K', 75, 'M1254 0h-2...'),\n",
       " ('L', 'L', 76, 'M200 0v146...'),\n",
       " ('M', 'M', 77, 'M843 0l-49...'),\n",
       " ('N', 'N', 78, 'M1343 0h-1...'),\n",
       " ('O', 'O', 79, 'M1468 733q...'),\n",
       " ('P', 'P', 80, 'M582 1462q...'),\n",
       " ('Q', 'Q', 81, 'M1468 733q...'),\n",
       " ('R', 'R', 82, 'M595 1462q...')]"
      ]
     },
     "execution_count": 16,
     "metadata": {},
     "output_type": "execute_result"
    }
   ],
   "source": [
    "[\n",
    "    (glyph.glyph_name, glyph.unicode, ord(glyph.unicode), glyph.d[:10] + '...')\n",
    "    for glyph\n",
    "    in font_processor.glyphs[50:60]\n",
    "]"
   ]
  },
  {
   "cell_type": "code",
   "execution_count": 18,
   "id": "1422907b-2546-4b42-9051-9720ca1ad171",
   "metadata": {},
   "outputs": [],
   "source": [
    "import matplotlib.pyplot as plt"
   ]
  },
  {
   "cell_type": "code",
   "execution_count": 40,
   "id": "a723a816-8e25-4e32-8fef-a7d50e636f5a",
   "metadata": {},
   "outputs": [
    {
     "data": {
      "text/plain": [
       "<matplotlib.image.AxesImage at 0x7faefc4025f0>"
      ]
     },
     "execution_count": 40,
     "metadata": {},
     "output_type": "execute_result"
    },
    {
     "data": {
      "image/png": "[encoded data removed]",
      "text/plain": [
       "<Figure size 640x480 with 1 Axes>"
      ]
     },
     "metadata": {},
     "output_type": "display_data"
    }
   ],
   "source": [
    "plt.imshow(\n",
    "    font_processor.glyph2array(\n",
    "        font_processor.glyphs[51],\n",
    "        glyph_size_proportion=1,\n",
    "        image_w=64, image_h=64\n",
    "    )\n",
    ")"
   ]
  },
  {
   "cell_type": "markdown",
   "id": "c5da7bfc-5bb2-488d-830a-b9ad26533acb",
   "metadata": {},
   "source": [
    "## render glyphsets"
   ]
  },
  {
   "cell_type": "code",
   "execution_count": 45,
   "id": "f735c44d-288a-46c6-a5b3-1bebc6ee3fa8",
   "metadata": {},
   "outputs": [],
   "source": [
    "UA_ALPHABET = 'АаБбВвГгҐґДдЕеЄєЖжЗзИиІіЇїЙйКкЛлМмНнОоПпРрСсТтУуФфХхЦцЧчШшЩщЬьЮюЯя'\n",
    "EN_ALPHABET = 'AaBbCcDdEeFfGgHhIiJjKkLlMmNnOoPpQqRrSsTtUuVvWwXxYyZz'"
   ]
  },
  {
   "cell_type": "code",
   "execution_count": 44,
   "id": "32891126-7561-45ef-a44d-40bedb9568f5",
   "metadata": {},
   "outputs": [
    {
     "data": {
      "text/plain": [
       "65"
      ]
     },
     "execution_count": 44,
     "metadata": {},
     "output_type": "execute_result"
    }
   ],
   "source": [
    "len('АаБбВвГгҐґДдЕеЄєЖжЗзИиІіЇїЙйКкЛлМмНнОоПпРрСсТтУуФфХхЦцЧчШшЩщьЮюЯя')"
   ]
  },
  {
   "cell_type": "code",
   "execution_count": 28,
   "id": "0e0e1729-c823-49d6-aeda-2ae41551b66b",
   "metadata": {},
   "outputs": [],
   "source": [
    "def cut_glyphset(letters, font_processor):\n",
    "    return [\n",
    "        glyph\n",
    "        for glyph in font_processor.glyphs\n",
    "        if glyph.unicode in set(letters)\n",
    "    ]"
   ]
  },
  {
   "cell_type": "code",
   "execution_count": 31,
   "id": "e0cce9b8-d100-490e-ae14-30d21339b038",
   "metadata": {},
   "outputs": [],
   "source": [
    "def glyphs_to_arrays(letters, font_processor, *args, **kwargs):\n",
    "    return [\n",
    "        font_processor.glyph2array(glyph, *args, **kwargs)\n",
    "        for glyph in cut_glyphset(letters, font_processor)\n",
    "    ]"
   ]
  },
  {
   "cell_type": "code",
   "execution_count": 46,
   "id": "7b46ff77-c421-43aa-b9a0-15e5483874a7",
   "metadata": {},
   "outputs": [
    {
     "name": "stdout",
     "output_type": "stream",
     "text": [
      "CPU times: user 238 ms, sys: 7.88 ms, total: 246 ms\n",
      "Wall time: 245 ms\n"
     ]
    }
   ],
   "source": [
    "%%time\n",
    "ua_arrays = glyphs_to_arrays([*UA_ALPHABET], font_processor, glyph_size_proportion=1, image_w=64, image_h=64)"
   ]
  },
  {
   "cell_type": "code",
   "execution_count": 42,
   "id": "f6b5ab66-eef5-4310-b7ae-5f15942b3614",
   "metadata": {},
   "outputs": [
    {
     "name": "stdout",
     "output_type": "stream",
     "text": [
      "CPU times: user 200 ms, sys: 5.72 ms, total: 205 ms\n",
      "Wall time: 203 ms\n"
     ]
    }
   ],
   "source": [
    "%%time\n",
    "en_arrays = glyphs_to_arrays([*EN_ALPHABET], font_processor, glyph_size_proportion=1, image_w=64, image_h=64)"
   ]
  },
  {
   "cell_type": "markdown",
   "id": "32e6bed0-1533-458c-a7a6-637eb73d4147",
   "metadata": {},
   "source": [
    "Take only one channel:"
   ]
  },
  {
   "cell_type": "code",
   "execution_count": 51,
   "id": "399df91f-463a-4627-8856-42d1df164457",
   "metadata": {},
   "outputs": [
    {
     "name": "stdout",
     "output_type": "stream",
     "text": [
      "CPU times: user 26 µs, sys: 21 µs, total: 47 µs\n",
      "Wall time: 49.4 µs\n"
     ]
    }
   ],
   "source": [
    "%%time\n",
    "ua_arrays = [glyph[:, :, 1] for glyph in ua_arrays]"
   ]
  },
  {
   "cell_type": "code",
   "execution_count": 52,
   "id": "1f860857-6b9c-45bc-9fa6-cebf3399522e",
   "metadata": {},
   "outputs": [
    {
     "name": "stdout",
     "output_type": "stream",
     "text": [
      "CPU times: user 73 µs, sys: 0 ns, total: 73 µs\n",
      "Wall time: 77 µs\n"
     ]
    }
   ],
   "source": [
    "%%time\n",
    "en_arrays = [glyph[:, :, 1] for glyph in en_arrays]"
   ]
  },
  {
   "cell_type": "code",
   "execution_count": 60,
   "id": "6cfd8341-1070-4f2e-a5ec-7f1b6d9c9354",
   "metadata": {},
   "outputs": [
    {
     "data": {
      "text/plain": [
       "((64, 64), 0.0, 1.0)"
      ]
     },
     "execution_count": 60,
     "metadata": {},
     "output_type": "execute_result"
    }
   ],
   "source": [
    "ua_arrays[0].shape, ua_arrays[0].min(), ua_arrays[0].max()"
   ]
  },
  {
   "cell_type": "markdown",
   "id": "ed354c6f-f408-4504-8bcc-36d1ca415fd8",
   "metadata": {},
   "source": [
    "## convert to csvs"
   ]
  },
  {
   "cell_type": "code",
   "execution_count": 64,
   "id": "0f1a7fb3-5728-4385-afb4-491ee1392780",
   "metadata": {},
   "outputs": [
    {
     "data": {
      "text/plain": [
       "1.23"
      ]
     },
     "execution_count": 64,
     "metadata": {},
     "output_type": "execute_result"
    }
   ],
   "source": [
    "round(1.23, 4)"
   ]
  },
  {
   "cell_type": "code",
   "execution_count": 78,
   "id": "22ea7ddc-deb5-455b-a5c4-6d9eb4a8b970",
   "metadata": {},
   "outputs": [],
   "source": [
    "def to_csv(faddr: str, glyphset: list, letters: list):\n",
    "    lines = [\n",
    "        f'\\'{letter}\\',' + ','.join([str(round(pixel, 3)) for pixel in image.reshape(-2)])\n",
    "        for letter, image\n",
    "        in zip(letters, glyphset)\n",
    "    ]\n",
    "\n",
    "    with open(faddr, mode='w+') as fp:\n",
    "        fp.write('\\n'.join(lines))"
   ]
  },
  {
   "cell_type": "code",
   "execution_count": 81,
   "id": "6aaba2a8-7fae-4136-b181-ebef78785346",
   "metadata": {},
   "outputs": [],
   "source": [
    "to_csv('ua_open_sans.csv', ua_arrays, [*UA_ALPHABET])"
   ]
  },
  {
   "cell_type": "code",
   "execution_count": 80,
   "id": "a7a6b7d5-db2c-4019-b68c-85df33fdfa54",
   "metadata": {},
   "outputs": [],
   "source": [
    "\n",
    "to_csv('en_open_sans.csv', en_arrays, [*EN_ALPHABET])"
   ]
  }
 ],
 "metadata": {
  "kernelspec": {
   "display_name": "Python 3 (ipykernel)",
   "language": "python",
   "name": "python3"
  },
  "language_info": {
   "codemirror_mode": {
    "name": "ipython",
    "version": 3
   },
   "file_extension": ".py",
   "mimetype": "text/x-python",
   "name": "python",
   "nbconvert_exporter": "python",
   "pygments_lexer": "ipython3",
   "version": "3.10.6"
  }
 },
 "nbformat": 4,
 "nbformat_minor": 5
}
