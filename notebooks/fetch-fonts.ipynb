{
 "cells": [
  {
   "cell_type": "markdown",
   "id": "03dec94e-9377-4fe6-93ab-343bc6cdd566",
   "metadata": {},
   "source": [
    "# fetch-fonts\n",
    "This notebook tests converting TTF to vector fonts."
   ]
  },
  {
   "cell_type": "markdown",
   "id": "15cfac95-2fc1-4fbb-8ae7-0b0305fbc5ab",
   "metadata": {},
   "source": [
    "Code source: https://gist.github.com/CatherineH/499a312a04582a00e7559ac0c8f133fa"
   ]
  },
  {
   "cell_type": "markdown",
   "id": "7e519535-ca55-4938-a588-121da36c7e01",
   "metadata": {},
   "source": [
    "## download font"
   ]
  },
  {
   "cell_type": "code",
   "execution_count": 5,
   "id": "76c9e6e2-121f-4ee4-ad80-495bd11f69d8",
   "metadata": {},
   "outputs": [
    {
     "name": "stdout",
     "output_type": "stream",
     "text": [
      "--2023-08-12 20:23:47--  https://github.com/adobe-fonts/source-sans/raw/release/TTF/SourceSans3-Regular.ttf\n",
      "Resolving github.com (github.com)... 140.82.121.4\n",
      "Connecting to github.com (github.com)|140.82.121.4|:443... connected.\n",
      "HTTP request sent, awaiting response... 302 Found\n",
      "Location: https://raw.githubusercontent.com/adobe-fonts/source-sans/release/TTF/SourceSans3-Regular.ttf [following]\n",
      "--2023-08-12 20:23:48--  https://raw.githubusercontent.com/adobe-fonts/source-sans/release/TTF/SourceSans3-Regular.ttf\n",
      "Resolving raw.githubusercontent.com (raw.githubusercontent.com)... 185.199.109.133, 185.199.110.133, 185.199.111.133, ...\n",
      "Connecting to raw.githubusercontent.com (raw.githubusercontent.com)|185.199.109.133|:443... connected.\n",
      "HTTP request sent, awaiting response... 200 OK\n",
      "Length: 431196 (421K) [application/octet-stream]\n",
      "Saving to: ‘SourceSans3-Regular.ttf’\n",
      "\n",
      "SourceSans3-Regular 100%[===================>] 421.09K  1.06MB/s    in 0.4s    \n",
      "\n",
      "2023-08-12 20:23:49 (1.06 MB/s) - ‘SourceSans3-Regular.ttf’ saved [431196/431196]\n",
      "\n"
     ]
    }
   ],
   "source": [
    "!wget https://github.com/adobe-fonts/source-sans/raw/release/TTF/SourceSans3-Regular.ttf"
   ]
  },
  {
   "cell_type": "code",
   "execution_count": 6,
   "id": "92ac438f-d987-4f58-89a8-6921f5d88f63",
   "metadata": {},
   "outputs": [
    {
     "name": "stdout",
     "output_type": "stream",
     "text": [
      "fetch-fonts.ipynb  SourceSans3-Regular.ttf  Untitled.ipynb\n"
     ]
    }
   ],
   "source": [
    "!ls"
   ]
  },
  {
   "cell_type": "markdown",
   "id": "921748b3-a767-4e32-bfd9-c0f8df96ca93",
   "metadata": {},
   "source": [
    "## convert font"
   ]
  },
  {
   "cell_type": "code",
   "execution_count": 19,
   "id": "ab7502a0-d2d9-4e14-84ad-b0f7909ba602",
   "metadata": {},
   "outputs": [],
   "source": [
    "import sys"
   ]
  },
  {
   "cell_type": "code",
   "execution_count": null,
   "id": "c333c3e3-9a8f-4939-9cd8-50bc2d021b14",
   "metadata": {},
   "outputs": [],
   "source": [
    "!sudo apt-get install python3-fontforge"
   ]
  },
  {
   "cell_type": "code",
   "execution_count": 21,
   "id": "78bffbd1-a6f3-4492-842f-5462c05c188f",
   "metadata": {},
   "outputs": [],
   "source": [
    "sys.path.append('/usr/lib/python3/dist-packages/')`\n",
    "import fontforge"
   ]
  },
  {
   "cell_type": "code",
   "execution_count": 23,
   "id": "6c0fed23-75fe-4732-a69d-ded8375ef238",
   "metadata": {},
   "outputs": [],
   "source": [
    "def ttf2svg(i, o):\n",
    "    font = fontforge.open(i)\n",
    "    font.generate(o)\n",
    "    font.close()"
   ]
  },
  {
   "cell_type": "code",
   "execution_count": 24,
   "id": "187692db-4b09-411d-8c74-5d08218934d0",
   "metadata": {},
   "outputs": [
    {
     "name": "stderr",
     "output_type": "stream",
     "text": [
      "The following table(s) in the font have been ignored by FontForge\n",
      "  Ignoring 'DSIG' digital signature table\n"
     ]
    }
   ],
   "source": [
    "ttf2svg('SourceSans3-Regular.ttf', 'SourceSans3-Regular.svg')"
   ]
  },
  {
   "cell_type": "code",
   "execution_count": 25,
   "id": "b0314350-b4e2-4a0f-8ff1-8c43b4cf79cb",
   "metadata": {},
   "outputs": [
    {
     "name": "stdout",
     "output_type": "stream",
     "text": [
      "fetch-fonts.ipynb\t SourceSans3-Regular.ttf\n",
      "SourceSans3-Regular.svg  Untitled.ipynb\n"
     ]
    }
   ],
   "source": [
    "!ls"
   ]
  },
  {
   "cell_type": "code",
   "execution_count": 28,
   "id": "4c8dd362-7720-4346-aee3-885022f5bfbc",
   "metadata": {},
   "outputs": [
    {
     "name": "stdout",
     "output_type": "stream",
     "text": [
      "<?xml version=\"1.0\" standalone=\"no\"?>\n",
      "<!DOCTYPE svg PUBLIC \"-//W3C//DTD SVG 1.1//EN\" \"http://www.w3.org/Graphics/SVG/1.1/DTD/svg11.dtd\" >\n",
      "<svg xmlns=\"http://www.w3.org/2000/svg\" xmlns:xlink=\"http://www.w3.org/1999/xlink\" version=\"1.1\">\n",
      "<metadata>\n",
      "Created by FontForge 20201107 at Tue Apr  4 06:27:06 2023\n"
     ]
    }
   ],
   "source": [
    "!head -5 SourceSans3-Regular.svg"
   ]
  },
  {
   "cell_type": "markdown",
   "id": "3898d821-6f01-4a04-b314-cc057ffdca9e",
   "metadata": {},
   "source": [
    "### wrap the converting, use temp file"
   ]
  },
  {
   "cell_type": "code",
   "execution_count": 29,
   "id": "cba86e2c-10c9-4e5d-a548-7105cf9a952c",
   "metadata": {},
   "outputs": [],
   "source": [
    "import tempfile"
   ]
  },
  {
   "cell_type": "code",
   "execution_count": 54,
   "id": "b25d8fe6-b6c4-4cc8-bc03-32e5e81222ea",
   "metadata": {},
   "outputs": [],
   "source": [
    "import os"
   ]
  },
  {
   "cell_type": "code",
   "execution_count": 57,
   "id": "9d476d47-45f1-48d4-99c8-1f82633a8a51",
   "metadata": {},
   "outputs": [],
   "source": [
    "from bs4 import BeautifulSoup"
   ]
  },
  {
   "cell_type": "code",
   "execution_count": 75,
   "id": "b6eddf5f-9365-4d60-8d07-e844b3398622",
   "metadata": {},
   "outputs": [],
   "source": [
    "def ttf2xml(i: str):\n",
    "    with tempfile.TemporaryDirectory() as dir:\n",
    "        font = fontforge.open(i)\n",
    "        file_address = os.path.join(dir, i + '._generated.svg')\n",
    "        font.generate(file_address)\n",
    "        font.close()\n",
    "        with open(file_address, mode='r') as fp:\n",
    "            xml_data = fp.read()\n",
    "            glyphs = BeautifulSoup(xml_data, 'xml').find_all('glyph')\n",
    "\n",
    "    return glyphs"
   ]
  },
  {
   "cell_type": "code",
   "execution_count": 70,
   "id": "c340d943-3baf-4ad0-929f-db44f8fdfeab",
   "metadata": {},
   "outputs": [],
   "source": [
    "from collections import namedtuple"
   ]
  },
  {
   "cell_type": "code",
   "execution_count": 81,
   "id": "1c80eed5-0eab-40c9-9827-4b488828e97e",
   "metadata": {},
   "outputs": [],
   "source": [
    "Glyph = namedtuple('Glyph', ['d', 'glyph_name', 'unicode'])"
   ]
  },
  {
   "cell_type": "code",
   "execution_count": 76,
   "id": "c1ed9cf9-f8a6-4ff1-a9f9-241e51d57452",
   "metadata": {
    "scrolled": true
   },
   "outputs": [
    {
     "name": "stderr",
     "output_type": "stream",
     "text": [
      "The following table(s) in the font have been ignored by FontForge\n",
      "  Ignoring 'DSIG' digital signature table\n"
     ]
    }
   ],
   "source": [
    "xmls = ttf2xml('SourceSans3-Regular.ttf')"
   ]
  },
  {
   "cell_type": "code",
   "execution_count": 82,
   "id": "d15e124a-7049-4f3b-b38f-ca9d397bdb28",
   "metadata": {},
   "outputs": [],
   "source": [
    "def xml2tuple(xml):\n",
    "    return [\n",
    "        Glyph(item.get('d'), item.get('glyph_name'), item.get('unicode'))\n",
    "        for item\n",
    "        in xml\n",
    "    ]"
   ]
  },
  {
   "cell_type": "code",
   "execution_count": 83,
   "id": "649ebbe4-306e-47da-b793-99f380a22d52",
   "metadata": {},
   "outputs": [],
   "source": [
    "glyphs = xml2tuple(xmls)"
   ]
  },
  {
   "cell_type": "code",
   "execution_count": 86,
   "id": "0da1989d-a87c-4f11-b485-8da9cb365429",
   "metadata": {},
   "outputs": [
    {
     "data": {
      "text/plain": [
       "2487"
      ]
     },
     "execution_count": 86,
     "metadata": {},
     "output_type": "execute_result"
    }
   ],
   "source": [
    "len(glyphs)"
   ]
  }
 ],
 "metadata": {
  "kernelspec": {
   "display_name": "Python 3 (ipykernel)",
   "language": "python",
   "name": "python3"
  },
  "language_info": {
   "codemirror_mode": {
    "name": "ipython",
    "version": 3
   },
   "file_extension": ".py",
   "mimetype": "text/x-python",
   "name": "python",
   "nbconvert_exporter": "python",
   "pygments_lexer": "ipython3",
   "version": "3.10.6"
  }
 },
 "nbformat": 4,
 "nbformat_minor": 5
}
