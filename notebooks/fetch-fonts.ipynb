{
 "cells": [
  {
   "cell_type": "markdown",
   "id": "03dec94e-9377-4fe6-93ab-343bc6cdd566",
   "metadata": {},
   "source": [
    "# fetch-fonts\n",
    "This notebook tests converting TTF to vector fonts."
   ]
  },
  {
   "cell_type": "markdown",
   "id": "15cfac95-2fc1-4fbb-8ae7-0b0305fbc5ab",
   "metadata": {},
   "source": [
    "Code source: https://gist.github.com/CatherineH/499a312a04582a00e7559ac0c8f133fa"
   ]
  },
  {
   "cell_type": "markdown",
   "id": "7e519535-ca55-4938-a588-121da36c7e01",
   "metadata": {},
   "source": [
    "## download font"
   ]
  },
  {
   "cell_type": "code",
   "execution_count": 5,
   "id": "76c9e6e2-121f-4ee4-ad80-495bd11f69d8",
   "metadata": {},
   "outputs": [
    {
     "name": "stdout",
     "output_type": "stream",
     "text": [
      "--2023-08-12 20:23:47--  https://github.com/adobe-fonts/source-sans/raw/release/TTF/SourceSans3-Regular.ttf\n",
      "Resolving github.com (github.com)... 140.82.121.4\n",
      "Connecting to github.com (github.com)|140.82.121.4|:443... connected.\n",
      "HTTP request sent, awaiting response... 302 Found\n",
      "Location: https://raw.githubusercontent.com/adobe-fonts/source-sans/release/TTF/SourceSans3-Regular.ttf [following]\n",
      "--2023-08-12 20:23:48--  https://raw.githubusercontent.com/adobe-fonts/source-sans/release/TTF/SourceSans3-Regular.ttf\n",
      "Resolving raw.githubusercontent.com (raw.githubusercontent.com)... 185.199.109.133, 185.199.110.133, 185.199.111.133, ...\n",
      "Connecting to raw.githubusercontent.com (raw.githubusercontent.com)|185.199.109.133|:443... connected.\n",
      "HTTP request sent, awaiting response... 200 OK\n",
      "Length: 431196 (421K) [application/octet-stream]\n",
      "Saving to: ‘SourceSans3-Regular.ttf’\n",
      "\n",
      "SourceSans3-Regular 100%[===================>] 421.09K  1.06MB/s    in 0.4s    \n",
      "\n",
      "2023-08-12 20:23:49 (1.06 MB/s) - ‘SourceSans3-Regular.ttf’ saved [431196/431196]\n",
      "\n"
     ]
    }
   ],
   "source": [
    "!wget https://github.com/adobe-fonts/source-sans/raw/release/TTF/SourceSans3-Regular.ttf"
   ]
  },
  {
   "cell_type": "code",
   "execution_count": 6,
   "id": "92ac438f-d987-4f58-89a8-6921f5d88f63",
   "metadata": {},
   "outputs": [
    {
     "name": "stdout",
     "output_type": "stream",
     "text": [
      "fetch-fonts.ipynb  SourceSans3-Regular.ttf  Untitled.ipynb\n"
     ]
    }
   ],
   "source": [
    "!ls"
   ]
  },
  {
   "cell_type": "markdown",
   "id": "921748b3-a767-4e32-bfd9-c0f8df96ca93",
   "metadata": {},
   "source": [
    "## convert font"
   ]
  },
  {
   "cell_type": "code",
   "execution_count": 19,
   "id": "ab7502a0-d2d9-4e14-84ad-b0f7909ba602",
   "metadata": {},
   "outputs": [],
   "source": [
    "import sys"
   ]
  },
  {
   "cell_type": "code",
   "execution_count": null,
   "id": "c333c3e3-9a8f-4939-9cd8-50bc2d021b14",
   "metadata": {},
   "outputs": [],
   "source": [
    "!sudo apt-get install python3-fontforge"
   ]
  },
  {
   "cell_type": "code",
   "execution_count": 21,
   "id": "78bffbd1-a6f3-4492-842f-5462c05c188f",
   "metadata": {},
   "outputs": [],
   "source": [
    "sys.path.append('/usr/lib/python3/dist-packages/')`\n",
    "import fontforge"
   ]
  },
  {
   "cell_type": "code",
   "execution_count": 23,
   "id": "6c0fed23-75fe-4732-a69d-ded8375ef238",
   "metadata": {},
   "outputs": [],
   "source": [
    "def ttf2svg(i, o):\n",
    "    font = fontforge.open(i)\n",
    "    font.generate(o)\n",
    "    font.close()"
   ]
  },
  {
   "cell_type": "code",
   "execution_count": 24,
   "id": "187692db-4b09-411d-8c74-5d08218934d0",
   "metadata": {},
   "outputs": [
    {
     "name": "stderr",
     "output_type": "stream",
     "text": [
      "The following table(s) in the font have been ignored by FontForge\n",
      "  Ignoring 'DSIG' digital signature table\n"
     ]
    }
   ],
   "source": [
    "ttf2svg('SourceSans3-Regular.ttf', 'SourceSans3-Regular.svg')"
   ]
  },
  {
   "cell_type": "code",
   "execution_count": 25,
   "id": "b0314350-b4e2-4a0f-8ff1-8c43b4cf79cb",
   "metadata": {},
   "outputs": [
    {
     "name": "stdout",
     "output_type": "stream",
     "text": [
      "fetch-fonts.ipynb\t SourceSans3-Regular.ttf\n",
      "SourceSans3-Regular.svg  Untitled.ipynb\n"
     ]
    }
   ],
   "source": [
    "!ls"
   ]
  },
  {
   "cell_type": "code",
   "execution_count": 28,
   "id": "4c8dd362-7720-4346-aee3-885022f5bfbc",
   "metadata": {},
   "outputs": [
    {
     "name": "stdout",
     "output_type": "stream",
     "text": [
      "<?xml version=\"1.0\" standalone=\"no\"?>\n",
      "<!DOCTYPE svg PUBLIC \"-//W3C//DTD SVG 1.1//EN\" \"http://www.w3.org/Graphics/SVG/1.1/DTD/svg11.dtd\" >\n",
      "<svg xmlns=\"http://www.w3.org/2000/svg\" xmlns:xlink=\"http://www.w3.org/1999/xlink\" version=\"1.1\">\n",
      "<metadata>\n",
      "Created by FontForge 20201107 at Tue Apr  4 06:27:06 2023\n"
     ]
    }
   ],
   "source": [
    "!head -5 SourceSans3-Regular.svg"
   ]
  }
 ],
 "metadata": {
  "kernelspec": {
   "display_name": "Python 3 (ipykernel)",
   "language": "python",
   "name": "python3"
  },
  "language_info": {
   "codemirror_mode": {
    "name": "ipython",
    "version": 3
   },
   "file_extension": ".py",
   "mimetype": "text/x-python",
   "name": "python",
   "nbconvert_exporter": "python",
   "pygments_lexer": "ipython3",
   "version": "3.10.6"
  }
 },
 "nbformat": 4,
 "nbformat_minor": 5
}
