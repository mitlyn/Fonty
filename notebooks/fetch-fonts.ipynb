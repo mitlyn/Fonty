{
 "cells": [
  {
   "cell_type": "markdown",
   "id": "03dec94e-9377-4fe6-93ab-343bc6cdd566",
   "metadata": {},
   "source": [
    "# fetch-fonts\n",
    "This notebook tests converting TTF to vector fonts."
   ]
  },
  {
   "cell_type": "markdown",
   "id": "15cfac95-2fc1-4fbb-8ae7-0b0305fbc5ab",
   "metadata": {},
   "source": [
    "Code source: https://gist.github.com/CatherineH/499a312a04582a00e7559ac0c8f133fa"
   ]
  },
  {
   "cell_type": "markdown",
   "id": "7e519535-ca55-4938-a588-121da36c7e01",
   "metadata": {},
   "source": [
    "## download font"
   ]
  },
  {
   "cell_type": "code",
   "execution_count": 5,
   "id": "76c9e6e2-121f-4ee4-ad80-495bd11f69d8",
   "metadata": {},
   "outputs": [
    {
     "name": "stdout",
     "output_type": "stream",
     "text": [
      "--2023-08-12 20:23:47--  https://github.com/adobe-fonts/source-sans/raw/release/TTF/SourceSans3-Regular.ttf\n",
      "Resolving github.com (github.com)... 140.82.121.4\n",
      "Connecting to github.com (github.com)|140.82.121.4|:443... connected.\n",
      "HTTP request sent, awaiting response... 302 Found\n",
      "Location: https://raw.githubusercontent.com/adobe-fonts/source-sans/release/TTF/SourceSans3-Regular.ttf [following]\n",
      "--2023-08-12 20:23:48--  https://raw.githubusercontent.com/adobe-fonts/source-sans/release/TTF/SourceSans3-Regular.ttf\n",
      "Resolving raw.githubusercontent.com (raw.githubusercontent.com)... 185.199.109.133, 185.199.110.133, 185.199.111.133, ...\n",
      "Connecting to raw.githubusercontent.com (raw.githubusercontent.com)|185.199.109.133|:443... connected.\n",
      "HTTP request sent, awaiting response... 200 OK\n",
      "Length: 431196 (421K) [application/octet-stream]\n",
      "Saving to: ‘SourceSans3-Regular.ttf’\n",
      "\n",
      "SourceSans3-Regular 100%[===================>] 421.09K  1.06MB/s    in 0.4s    \n",
      "\n",
      "2023-08-12 20:23:49 (1.06 MB/s) - ‘SourceSans3-Regular.ttf’ saved [431196/431196]\n",
      "\n"
     ]
    }
   ],
   "source": [
    "!wget https://github.com/adobe-fonts/source-sans/raw/release/TTF/SourceSans3-Regular.ttf"
   ]
  },
  {
   "cell_type": "code",
   "execution_count": 6,
   "id": "92ac438f-d987-4f58-89a8-6921f5d88f63",
   "metadata": {},
   "outputs": [
    {
     "name": "stdout",
     "output_type": "stream",
     "text": [
      "fetch-fonts.ipynb  SourceSans3-Regular.ttf  Untitled.ipynb\n"
     ]
    }
   ],
   "source": [
    "!ls"
   ]
  },
  {
   "cell_type": "markdown",
   "id": "921748b3-a767-4e32-bfd9-c0f8df96ca93",
   "metadata": {},
   "source": [
    "## convert font"
   ]
  },
  {
   "cell_type": "code",
   "execution_count": 19,
   "id": "ab7502a0-d2d9-4e14-84ad-b0f7909ba602",
   "metadata": {},
   "outputs": [],
   "source": [
    "import sys"
   ]
  },
  {
   "cell_type": "code",
   "execution_count": null,
   "id": "c333c3e3-9a8f-4939-9cd8-50bc2d021b14",
   "metadata": {},
   "outputs": [],
   "source": [
    "!sudo apt-get install python3-fontforge"
   ]
  },
  {
   "cell_type": "code",
   "execution_count": 21,
   "id": "78bffbd1-a6f3-4492-842f-5462c05c188f",
   "metadata": {},
   "outputs": [],
   "source": [
    "sys.path.append('/usr/lib/python3/dist-packages/')`\n",
    "import fontforge"
   ]
  },
  {
   "cell_type": "code",
   "execution_count": 23,
   "id": "6c0fed23-75fe-4732-a69d-ded8375ef238",
   "metadata": {},
   "outputs": [],
   "source": [
    "def ttf2svg(i, o):\n",
    "    font = fontforge.open(i)\n",
    "    font.generate(o)\n",
    "    font.close()"
   ]
  },
  {
   "cell_type": "code",
   "execution_count": 24,
   "id": "187692db-4b09-411d-8c74-5d08218934d0",
   "metadata": {},
   "outputs": [
    {
     "name": "stderr",
     "output_type": "stream",
     "text": [
      "The following table(s) in the font have been ignored by FontForge\n",
      "  Ignoring 'DSIG' digital signature table\n"
     ]
    }
   ],
   "source": [
    "ttf2svg('SourceSans3-Regular.ttf', 'SourceSans3-Regular.svg')"
   ]
  },
  {
   "cell_type": "code",
   "execution_count": 25,
   "id": "b0314350-b4e2-4a0f-8ff1-8c43b4cf79cb",
   "metadata": {},
   "outputs": [
    {
     "name": "stdout",
     "output_type": "stream",
     "text": [
      "fetch-fonts.ipynb\t SourceSans3-Regular.ttf\n",
      "SourceSans3-Regular.svg  Untitled.ipynb\n"
     ]
    }
   ],
   "source": [
    "!ls"
   ]
  },
  {
   "cell_type": "code",
   "execution_count": 28,
   "id": "4c8dd362-7720-4346-aee3-885022f5bfbc",
   "metadata": {},
   "outputs": [
    {
     "name": "stdout",
     "output_type": "stream",
     "text": [
      "<?xml version=\"1.0\" standalone=\"no\"?>\n",
      "<!DOCTYPE svg PUBLIC \"-//W3C//DTD SVG 1.1//EN\" \"http://www.w3.org/Graphics/SVG/1.1/DTD/svg11.dtd\" >\n",
      "<svg xmlns=\"http://www.w3.org/2000/svg\" xmlns:xlink=\"http://www.w3.org/1999/xlink\" version=\"1.1\">\n",
      "<metadata>\n",
      "Created by FontForge 20201107 at Tue Apr  4 06:27:06 2023\n"
     ]
    }
   ],
   "source": [
    "!head -5 SourceSans3-Regular.svg"
   ]
  },
  {
   "cell_type": "markdown",
   "id": "3898d821-6f01-4a04-b314-cc057ffdca9e",
   "metadata": {},
   "source": [
    "### wrap the converting, use temp file"
   ]
  },
  {
   "cell_type": "code",
   "execution_count": 29,
   "id": "cba86e2c-10c9-4e5d-a548-7105cf9a952c",
   "metadata": {},
   "outputs": [],
   "source": [
    "import tempfile"
   ]
  },
  {
   "cell_type": "code",
   "execution_count": 54,
   "id": "b25d8fe6-b6c4-4cc8-bc03-32e5e81222ea",
   "metadata": {},
   "outputs": [],
   "source": [
    "import os"
   ]
  },
  {
   "cell_type": "code",
   "execution_count": 57,
   "id": "9d476d47-45f1-48d4-99c8-1f82633a8a51",
   "metadata": {},
   "outputs": [],
   "source": [
    "from bs4 import BeautifulSoup"
   ]
  },
  {
   "cell_type": "code",
   "execution_count": 75,
   "id": "b6eddf5f-9365-4d60-8d07-e844b3398622",
   "metadata": {},
   "outputs": [],
   "source": [
    "def ttf2xml(i: str):\n",
    "    with tempfile.TemporaryDirectory() as dir:\n",
    "        font = fontforge.open(i)\n",
    "        file_address = os.path.join(dir, i + '._generated.svg')\n",
    "        font.generate(file_address)\n",
    "        font.close()\n",
    "        with open(file_address, mode='r') as fp:\n",
    "            xml_data = fp.read()\n",
    "            glyphs = BeautifulSoup(xml_data, 'xml').find_all('glyph')\n",
    "\n",
    "    return glyphs"
   ]
  },
  {
   "cell_type": "code",
   "execution_count": 70,
   "id": "c340d943-3baf-4ad0-929f-db44f8fdfeab",
   "metadata": {},
   "outputs": [],
   "source": [
    "from collections import namedtuple"
   ]
  },
  {
   "cell_type": "code",
   "execution_count": 81,
   "id": "1c80eed5-0eab-40c9-9827-4b488828e97e",
   "metadata": {},
   "outputs": [],
   "source": [
    "Glyph = namedtuple('Glyph', ['d', 'glyph_name', 'unicode'])"
   ]
  },
  {
   "cell_type": "code",
   "execution_count": 76,
   "id": "c1ed9cf9-f8a6-4ff1-a9f9-241e51d57452",
   "metadata": {
    "scrolled": true
   },
   "outputs": [
    {
     "name": "stderr",
     "output_type": "stream",
     "text": [
      "The following table(s) in the font have been ignored by FontForge\n",
      "  Ignoring 'DSIG' digital signature table\n"
     ]
    }
   ],
   "source": [
    "xmls = ttf2xml('SourceSans3-Regular.ttf')"
   ]
  },
  {
   "cell_type": "code",
   "execution_count": 82,
   "id": "d15e124a-7049-4f3b-b38f-ca9d397bdb28",
   "metadata": {},
   "outputs": [],
   "source": [
    "def xml2tuple(xml):\n",
    "    return [\n",
    "        Glyph(item.get('d'), item.get('glyph_name'), item.get('unicode'))\n",
    "        for item\n",
    "        in xml\n",
    "    ]"
   ]
  },
  {
   "cell_type": "code",
   "execution_count": 83,
   "id": "649ebbe4-306e-47da-b793-99f380a22d52",
   "metadata": {},
   "outputs": [],
   "source": [
    "glyphs = xml2tuple(xmls)"
   ]
  },
  {
   "cell_type": "code",
   "execution_count": 86,
   "id": "0da1989d-a87c-4f11-b485-8da9cb365429",
   "metadata": {},
   "outputs": [
    {
     "data": {
      "text/plain": [
       "2487"
      ]
     },
     "execution_count": 86,
     "metadata": {},
     "output_type": "execute_result"
    }
   ],
   "source": [
    "len(glyphs)"
   ]
  },
  {
   "cell_type": "markdown",
   "id": "152728ca-ac47-4ab4-bcdf-dd9bd61319fe",
   "metadata": {},
   "source": [
    "## render fonts"
   ]
  },
  {
   "cell_type": "code",
   "execution_count": 87,
   "id": "c0a926d1-98cb-4322-a7ad-49ceae7b0f48",
   "metadata": {},
   "outputs": [],
   "source": [
    "import cairosvg"
   ]
  },
  {
   "cell_type": "code",
   "execution_count": 321,
   "id": "dec5fd39-5a54-46f9-847f-501507506f78",
   "metadata": {},
   "outputs": [],
   "source": [
    "def fill_into_bb(object_bb: tuple, rect_sizes: tuple):\n",
    "    '''Calculates translation and scaling for that object with given\n",
    "    xmax, xmin, ymax, ymin, so that it will be filled and centered inside\n",
    "    a rectangle with given width and height.\n",
    "    '''\n",
    "\n",
    "    src_obj_xmax, src_obj_xmin, src_obj_ymax, src_obj_ymin = object_bb\n",
    "    im_w, im_h = rect_sizes\n",
    "\n",
    "\n",
    "    src_obj_w = abs(src_obj_xmax - src_obj_xmin)\n",
    "    src_obj_h = abs(src_obj_ymax - src_obj_ymin)\n",
    "\n",
    "    if src_obj_w > src_obj_h:\n",
    "        scale_x = im_w / src_obj_w\n",
    "        scale_y = scale_x\n",
    "        dst_obj_w = src_obj_w * scale_x\n",
    "        dst_obj_h = src_obj_h * scale_y\n",
    "\n",
    "    else:\n",
    "        scale_y = im_h / src_obj_h\n",
    "        scale_x = scale_y\n",
    "        dst_obj_w = src_obj_w * scale_x\n",
    "        dst_obj_h = src_obj_h * scale_y\n",
    "\n",
    "    translate_x = -src_obj_xmin * scale_x + (im_w - dst_obj_w) / 2\n",
    "    translate_y = -src_obj_ymin * scale_y + (im_h - dst_obj_h) / 2\n",
    "\n",
    "    return (\n",
    "        (round(translate_x, 5), round(translate_y, 5)),\n",
    "        (round(scale_x, 5), round(scale_y, 5))\n",
    "    )"
   ]
  },
  {
   "cell_type": "code",
   "execution_count": 278,
   "id": "3c6bf9f0-5142-44f4-a891-2b4ff6346034",
   "metadata": {},
   "outputs": [],
   "source": [
    "def get_svg_boilerplate(\n",
    "    path: str,\n",
    "    bounding_box: tuple = None,\n",
    "    image_w: str = 128, image_h: str = 128,\n",
    "    background: str = None, fill: str = None\n",
    "):\n",
    "    image_size = f'width=\\'{image_w}\\' height=\\'{image_h}\\''\n",
    "\n",
    "    if bounding_box:\n",
    "        translation, scaling = fill_into_bb(bounding_box, (image_w, image_h))\n",
    "    else:\n",
    "        translation, scaling = (0, 0), (1, 1)\n",
    "\n",
    "    def transform(fname, args):\n",
    "        args = map(str, args)\n",
    "        return fname + '(' + ','.join(args) + ')'\n",
    "    \n",
    "    return f'''\n",
    "        <svg\n",
    "            xmlns='http://www.w3.org/2000/svg'\n",
    "            xmlns:xlink='http://www.w3.org/1999/xlink'\n",
    "            {image_size}\n",
    "            viewPort='0 0 {image_w} {image_h}'\n",
    "        >\n",
    "            <rect {image_size} fill='{background or '#fff'}' />\n",
    "            <path\n",
    "                d='{path}'\n",
    "                fill='{fill or '#000'}'\n",
    "                transform='{transform('translate', translation)} {transform('scale', scaling)}'\n",
    "            />\n",
    "        </svg>\n",
    "    '''"
   ]
  },
  {
   "cell_type": "markdown",
   "id": "066b843e-abb2-45b1-863e-4642eab3235b",
   "metadata": {},
   "source": [
    "### find bounding box"
   ]
  },
  {
   "cell_type": "code",
   "execution_count": 126,
   "id": "4055b4d4-d9f8-4757-97f5-848c0999e175",
   "metadata": {},
   "outputs": [],
   "source": [
    "import svgpathtools"
   ]
  },
  {
   "cell_type": "code",
   "execution_count": 135,
   "id": "89d09533-3870-4385-bfd6-31408d6054a4",
   "metadata": {},
   "outputs": [],
   "source": [
    "with open('glyph.svg', mode='w+') as fp:\n",
    "    content = get_svg_boilerplate(glyphs[1000].d, width=0, height=0)\n",
    "    fp.write(content)"
   ]
  },
  {
   "cell_type": "code",
   "execution_count": 136,
   "id": "6b76ff3e-deb6-4128-a647-7dd516341aeb",
   "metadata": {},
   "outputs": [],
   "source": [
    "paths, _ = svgpathtools.svg2paths('glyph.svg')"
   ]
  },
  {
   "cell_type": "code",
   "execution_count": 225,
   "id": "3d0c735d-a1cf-4faf-9c5e-09110b2c8cc0",
   "metadata": {
    "scrolled": true
   },
   "outputs": [
    {
     "name": "stdout",
     "output_type": "stream",
     "text": [
      "Path(QuadraticBezier(start=(382-179j), control=(384-99j), end=(385.5-16j)),\n",
      "     QuadraticBezier(start=(385.5-16j), control=(387+67j), end=(387.5+147j)),\n",
      "     QuadraticBezier(start=(387.5+147j), contr\n",
      "[...]\n"
     ]
    }
   ],
   "source": [
    "print(str(paths[0])[:200] + '\\n[...]')"
   ]
  },
  {
   "cell_type": "code",
   "execution_count": 216,
   "id": "892dd683-4cb1-48ae-a4e6-523bd98f1323",
   "metadata": {},
   "outputs": [],
   "source": [
    "def get_paths_bounding_box(paths):\n",
    "    for i, path in enumerate(paths):\n",
    "        if i == 0:\n",
    "            # Initialise the overall min-max with the first path\n",
    "            xmin, xmax, ymin, ymax = path.bbox()\n",
    "        else:\n",
    "            # Expand bounds to match path bounds if needed\n",
    "            p_xmin, p_xmax, p_ymin, p_ymax = path.bbox()\n",
    "            xmin = p_xmin if p_xmin < xmin else xmin\n",
    "            xmax = p_xmax if p_xmax > xmax else xmax\n",
    "            ymin = p_ymin if p_ymin < ymin else ymin\n",
    "            ymax = p_ymax if p_ymax > ymax else ymax\n",
    "\n",
    "    return xmax, xmin, ymax, ymin"
   ]
  },
  {
   "cell_type": "markdown",
   "id": "b694938e-3fb7-4cf2-807c-cb4ff4edd396",
   "metadata": {},
   "source": [
    "Wrap it up:"
   ]
  },
  {
   "cell_type": "code",
   "execution_count": 232,
   "id": "bb0b5975-7ffc-4341-a68a-7d95eb167af2",
   "metadata": {},
   "outputs": [],
   "source": [
    "def get_glyph_bb(path: str, fname: str) -> tuple:\n",
    "\n",
    "    with open(fname, mode='w+') as f_glyph:\n",
    "        content = get_svg_boiзкlerplate(path)\n",
    "        f_glyph.write(content)\n",
    "\n",
    "    paths, _ = svgpathtools.svg2paths(fname)\n",
    "\n",
    "    return get_paths_bounding_box(paths)"
   ]
  },
  {
   "cell_type": "code",
   "execution_count": 290,
   "id": "1f795ec4-b720-4552-98df-7958874f7ece",
   "metadata": {},
   "outputs": [],
   "source": [
    "def render_png(path: str, svg_text, image_w, image_h, fname: str):\n",
    "    png_data = cairosvg.svg2png(\n",
    "        bytestring=svg_text.encode(),\n",
    "        output_width=image_w,\n",
    "        output_height=image_h\n",
    "    )\n",
    "    with open(fname, mode='wb+') as fp:\n",
    "        fp.write(png_data)"
   ]
  },
  {
   "cell_type": "code",
   "execution_count": 336,
   "id": "4a871962-e957-44f5-81f4-68c211c9f394",
   "metadata": {},
   "outputs": [],
   "source": [
    "def glyph2array(glyph: Glyph, image_w: int = 128, image_h: int = 128):\n",
    "    \n",
    "    with tempfile.TemporaryDirectory() as dir:\n",
    "        glyph_fname = os.path.join(dir, (glyph.unicode or '?').encode().hex())\n",
    "        bounding_box = get_glyph_bb(glyph.d, glyph_fname + '.svg')\n",
    "        svg_text = get_svg_boilerplate(glyph.d, bounding_box)\n",
    "        render_png(glyph.d, svg_text, image_w, image_h, glyph_fname + '.png')\n",
    "\n",
    "        return plt.imread(glyph_fname + '.png')"
   ]
  },
  {
   "cell_type": "code",
   "execution_count": 324,
   "id": "afabe36d-06a9-4fb5-897d-b4e3f246de7c",
   "metadata": {},
   "outputs": [
    {
     "data": {
      "text/plain": [
       "<matplotlib.image.AxesImage at 0x7f9be9a8e410>"
      ]
     },
     "execution_count": 324,
     "metadata": {},
     "output_type": "execute_result"
    },
    {
     "data": {
      "image/png": "[encoded data removed]",
      "text/plain": [
       "<Figure size 640x480 with 1 Axes>"
      ]
     },
     "metadata": {},
     "output_type": "display_data"
    }
   ],
   "source": [
    "plt.imshow(glyph2array(glyphs[1001]))"
   ]
  },
  {
   "cell_type": "code",
   "execution_count": 334,
   "id": "ab862edd-1e74-4b0c-9168-bd94006262c0",
   "metadata": {},
   "outputs": [
    {
     "data": {
      "text/plain": [
       "Glyph(d='M90 0v656h164q152 0 231 -84.5t79 -240.5q0 -157 -78.5 -244t-227.5 -87h-168zM173 68h75q115 0 172.5 69.5t57.5 193.5t-57.5 190.5t-172.5 66.5h-75v-520zM301 -206q-24 0 -39.5 14.5t-15.5 39.5q0 24 15.5 39t39.5 15t39.5 -15t15.5 -39q0 -25 -15.5 -39.5 t-39.5 -14.5z', glyph_name=None, unicode='Ḍ')"
      ]
     },
     "execution_count": 334,
     "metadata": {},
     "output_type": "execute_result"
    }
   ],
   "source": [
    "glyphs[100]"
   ]
  },
  {
   "cell_type": "code",
   "execution_count": 341,
   "id": "50e1ad61-9077-4365-8532-eb34b54d4376",
   "metadata": {},
   "outputs": [
    {
     "data": {
      "text/plain": [
       "<matplotlib.image.AxesImage at 0x7f9be839c250>"
      ]
     },
     "execution_count": 341,
     "metadata": {},
     "output_type": "execute_result"
    },
    {
     "data": {
      "image/png": "[encoded data removed]",
      "text/plain": [
       "<Figure size 640x480 with 1 Axes>"
      ]
     },
     "metadata": {},
     "output_type": "display_data"
    }
   ],
   "source": [
    "plt.imshow(glyph2array(glyphs[100], image_w=32, image_h=32))"
   ]
  }
 ],
 "metadata": {
  "kernelspec": {
   "display_name": "Python 3 (ipykernel)",
   "language": "python",
   "name": "python3"
  },
  "language_info": {
   "codemirror_mode": {
    "name": "ipython",
    "version": 3
   },
   "file_extension": ".py",
   "mimetype": "text/x-python",
   "name": "python",
   "nbconvert_exporter": "python",
   "pygments_lexer": "ipython3",
   "version": "3.10.6"
  }
 },
 "nbformat": 4,
 "nbformat_minor": 5
}
