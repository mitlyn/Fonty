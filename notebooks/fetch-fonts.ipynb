{
 "cells": [
  {
   "cell_type": "markdown",
   "id": "03dec94e-9377-4fe6-93ab-343bc6cdd566",
   "metadata": {},
   "source": [
    "# fetch-fonts\n",
    "This notebook tests converting TTF to vector fonts."
   ]
  },
  {
   "cell_type": "markdown",
   "id": "15cfac95-2fc1-4fbb-8ae7-0b0305fbc5ab",
   "metadata": {},
   "source": [
    "Code source: https://gist.github.com/CatherineH/499a312a04582a00e7559ac0c8f133fa"
   ]
  },
  {
   "cell_type": "markdown",
   "id": "7e519535-ca55-4938-a588-121da36c7e01",
   "metadata": {},
   "source": [
    "## download font"
   ]
  },
  {
   "cell_type": "code",
   "execution_count": 5,
   "id": "76c9e6e2-121f-4ee4-ad80-495bd11f69d8",
   "metadata": {},
   "outputs": [
    {
     "name": "stdout",
     "output_type": "stream",
     "text": [
      "--2023-08-12 20:23:47--  https://github.com/adobe-fonts/source-sans/raw/release/TTF/SourceSans3-Regular.ttf\n",
      "Resolving github.com (github.com)... 140.82.121.4\n",
      "Connecting to github.com (github.com)|140.82.121.4|:443... connected.\n",
      "HTTP request sent, awaiting response... 302 Found\n",
      "Location: https://raw.githubusercontent.com/adobe-fonts/source-sans/release/TTF/SourceSans3-Regular.ttf [following]\n",
      "--2023-08-12 20:23:48--  https://raw.githubusercontent.com/adobe-fonts/source-sans/release/TTF/SourceSans3-Regular.ttf\n",
      "Resolving raw.githubusercontent.com (raw.githubusercontent.com)... 185.199.109.133, 185.199.110.133, 185.199.111.133, ...\n",
      "Connecting to raw.githubusercontent.com (raw.githubusercontent.com)|185.199.109.133|:443... connected.\n",
      "HTTP request sent, awaiting response... 200 OK\n",
      "Length: 431196 (421K) [application/octet-stream]\n",
      "Saving to: ‘SourceSans3-Regular.ttf’\n",
      "\n",
      "SourceSans3-Regular 100%[===================>] 421.09K  1.06MB/s    in 0.4s    \n",
      "\n",
      "2023-08-12 20:23:49 (1.06 MB/s) - ‘SourceSans3-Regular.ttf’ saved [431196/431196]\n",
      "\n"
     ]
    }
   ],
   "source": [
    "!wget https://github.com/adobe-fonts/source-sans/raw/release/TTF/SourceSans3-Regular.ttf"
   ]
  },
  {
   "cell_type": "code",
   "execution_count": 6,
   "id": "92ac438f-d987-4f58-89a8-6921f5d88f63",
   "metadata": {},
   "outputs": [
    {
     "name": "stdout",
     "output_type": "stream",
     "text": [
      "fetch-fonts.ipynb  SourceSans3-Regular.ttf  Untitled.ipynb\n"
     ]
    }
   ],
   "source": [
    "!ls"
   ]
  },
  {
   "cell_type": "markdown",
   "id": "921748b3-a767-4e32-bfd9-c0f8df96ca93",
   "metadata": {},
   "source": [
    "## convert font"
   ]
  },
  {
   "cell_type": "code",
   "execution_count": 2,
   "id": "bfe77a13-a3b8-42e3-97e8-5dc6cedc9253",
   "metadata": {},
   "outputs": [],
   "source": [
    "from freetype import Face\n",
    "from svgpathtools import wsvg, Line, QuadraticBezier, Path"
   ]
  },
  {
   "cell_type": "code",
   "execution_count": 3,
   "id": "4858d8f0-8cf1-40a5-b4c6-6974136fffe4",
   "metadata": {},
   "outputs": [],
   "source": [
    "def tuple_to_imag(t):\n",
    "    return t[0] + t[1] * 1j"
   ]
  },
  {
   "cell_type": "code",
   "execution_count": 12,
   "id": "7f2c4b12-4ba0-4b08-ba50-7f4b496deb49",
   "metadata": {},
   "outputs": [],
   "source": [
    "face = Face('./SourceSans3-Regular.ttf')\n",
    "face.set_char_size(48 * 64)\n",
    "face.load_char('b')\n",
    "outline = face.glyph.outline\n",
    "y = [t[1] for t in outline.points]\n",
    "# flip the points\n",
    "outline_points = [(p[0], max(y) - p[1]) for p in outline.points]\n",
    "start, end = 0, 0\n",
    "paths = []"
   ]
  },
  {
   "cell_type": "code",
   "execution_count": 13,
   "id": "00ebc45f-150e-4b63-8263-e66a81654540",
   "metadata": {},
   "outputs": [],
   "source": [
    "for i in range(len(outline.contours)):\n",
    "    end = outline.contours[i]\n",
    "    points = outline_points[start:end + 1]\n",
    "    points.append(points[0])\n",
    "    tags = outline.tags[start:end + 1]\n",
    "    tags.append(tags[0])\n",
    "\n",
    "    segments = [[points[0], ], ]\n",
    "    for j in range(1, len(points)):\n",
    "        segments[-1].append(points[j])\n",
    "        if tags[j] and j < (len(points) - 1):\n",
    "            segments.append([points[j], ])\n",
    "    for segment in segments:\n",
    "        if len(segment) == 2:\n",
    "            paths.append(Line(start=tuple_to_imag(segment[0]),\n",
    "                              end=tuple_to_imag(segment[1])))\n",
    "        elif len(segment) == 3:\n",
    "            paths.append(QuadraticBezier(start=tuple_to_imag(segment[0]),\n",
    "                                         control=tuple_to_imag(segment[1]),\n",
    "                                         end=tuple_to_imag(segment[2])))\n",
    "        elif len(segment) == 4:\n",
    "            C = ((segment[1][0] + segment[2][0]) / 2.0,\n",
    "                 (segment[1][1] + segment[2][1]) / 2.0)\n",
    "\n",
    "            paths.append(QuadraticBezier(start=tuple_to_imag(segment[0]),\n",
    "                                         control=tuple_to_imag(segment[1]),\n",
    "                                         end=tuple_to_imag(C)))\n",
    "            paths.append(QuadraticBezier(start=tuple_to_imag(C),\n",
    "                                         control=tuple_to_imag(segment[2]),\n",
    "                                         end=tuple_to_imag(segment[3])))\n",
    "        else:\n",
    "            print(f\"incompatible segment length: {len(segment)}\")\n",
    "    start = end + 1"
   ]
  },
  {
   "cell_type": "code",
   "execution_count": 14,
   "id": "1df33080-53fe-4789-8eef-e0fde6272119",
   "metadata": {},
   "outputs": [],
   "source": [
    "path = Path(*paths)"
   ]
  },
  {
   "cell_type": "markdown",
   "id": "2c2c739e-67ba-4166-a8b0-6c1e7d8f1a57",
   "metadata": {},
   "source": [
    "## save font"
   ]
  },
  {
   "cell_type": "code",
   "execution_count": 15,
   "id": "226657f1-9106-4a82-b0fc-f0ab1d151816",
   "metadata": {},
   "outputs": [],
   "source": [
    "wsvg(path, filename=\"SourceSans3-Regular.svg\")"
   ]
  },
  {
   "cell_type": "code",
   "execution_count": 16,
   "id": "32fd17d2-d608-4e00-9193-9478e325d962",
   "metadata": {},
   "outputs": [
    {
     "name": "stdout",
     "output_type": "stream",
     "text": [
      "fetch-fonts.ipynb\t SourceSans3-Regular.ttf\n",
      "SourceSans3-Regular.svg  Untitled.ipynb\n"
     ]
    }
   ],
   "source": [
    "!ls"
   ]
  },
  {
   "cell_type": "code",
   "execution_count": null,
   "id": "c29f212b-cb3b-449e-aa53-95f1a791a5f8",
   "metadata": {},
   "outputs": [],
   "source": []
  }
 ],
 "metadata": {
  "kernelspec": {
   "display_name": "Python 3 (ipykernel)",
   "language": "python",
   "name": "python3"
  },
  "language_info": {
   "codemirror_mode": {
    "name": "ipython",
    "version": 3
   },
   "file_extension": ".py",
   "mimetype": "text/x-python",
   "name": "python",
   "nbconvert_exporter": "python",
   "pygments_lexer": "ipython3",
   "version": "3.10.6"
  }
 },
 "nbformat": 4,
 "nbformat_minor": 5
}
