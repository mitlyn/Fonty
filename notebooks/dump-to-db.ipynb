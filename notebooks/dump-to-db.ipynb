{
 "cells": [
  {
   "cell_type": "markdown",
   "id": "8ecd38fc-8865-4144-8e0f-757e7711483b",
   "metadata": {},
   "source": [
    "# dump-to-db\n",
    "Dump generated glyphs to MongoDB"
   ]
  },
  {
   "cell_type": "markdown",
   "id": "f3a5433b-3ade-42a0-ae40-8962a949083a",
   "metadata": {},
   "source": [
    "## set up connection"
   ]
  },
  {
   "cell_type": "code",
   "execution_count": 1,
   "id": "f1d40f5b-6218-400c-8b21-a291d654dfa5",
   "metadata": {},
   "outputs": [],
   "source": [
    "import sys"
   ]
  },
  {
   "cell_type": "code",
   "execution_count": 2,
   "id": "aa36750c-4174-45a1-b3f3-d7dbf9bdf415",
   "metadata": {},
   "outputs": [],
   "source": [
    "sys.path.append('/usr/lib/python3/dist-packages/')"
   ]
  },
  {
   "cell_type": "code",
   "execution_count": 3,
   "id": "85a65681-475b-4314-bf69-f1a1e891c7d6",
   "metadata": {},
   "outputs": [
    {
     "name": "stdout",
     "output_type": "stream",
     "text": [
      "/mnt/d/grad23/fonty\n"
     ]
    }
   ],
   "source": [
    "%cd ..\n",
    "\n",
    "import os\n",
    "import sys\n",
    "import pymongo\n",
    "import fonts.font_processing as font_processing"
   ]
  },
  {
   "cell_type": "code",
   "execution_count": 4,
   "id": "cbf06208-40e8-4d66-82e7-30c9c38610b7",
   "metadata": {},
   "outputs": [
    {
     "data": {
      "text/plain": [
       "['/mnt/d/grad23/fonty/notebooks',\n",
       " '/usr/lib/python310.zip',\n",
       " '/usr/lib/python3.10',\n",
       " '/usr/lib/python3.10/lib-dynload',\n",
       " '',\n",
       " '/root/.local/share/virtualenvs/fonty-CHIKu2Gx/lib/python3.10/site-packages',\n",
       " '/usr/lib/python3/dist-packages/']"
      ]
     },
     "execution_count": 4,
     "metadata": {},
     "output_type": "execute_result"
    }
   ],
   "source": [
    "sys.path"
   ]
  },
  {
   "cell_type": "code",
   "execution_count": 5,
   "id": "83cf2bf7-a707-4f11-ac8d-2c28252339f3",
   "metadata": {},
   "outputs": [],
   "source": [
    "cli_remote = pymongo.MongoClient(\n",
    "    'mongodb+srv://fonty.hquocfa.mongodb.net/?authSource=%24external&authMechanism=MONGODB-X509&retryWrites=true&w=majority',\n",
    "    tls=True,\n",
    "    tlsCertificateKeyFile='/mnt/d/grad23/fonty/auth/X509-cert-6658948524510096383.pem'\n",
    ")"
   ]
  },
  {
   "cell_type": "code",
   "execution_count": 6,
   "id": "cf4abff8-f9c3-425b-b558-aafa081a00c5",
   "metadata": {},
   "outputs": [
    {
     "data": {
      "text/plain": [
       "MongoClient(host=['ac-5dsaw84-shard-00-00.hquocfa.mongodb.net:27017', 'ac-5dsaw84-shard-00-01.hquocfa.mongodb.net:27017', 'ac-5dsaw84-shard-00-02.hquocfa.mongodb.net:27017'], document_class=dict, tz_aware=False, connect=True, authsource='$external', authmechanism='MONGODB-X509', retrywrites=True, w='majority', replicaset='atlas-32tpky-shard-0', tls=True, tlscertificatekeyfile='/mnt/d/grad23/fonty/auth/X509-cert-6658948524510096383.pem')"
      ]
     },
     "execution_count": 6,
     "metadata": {},
     "output_type": "execute_result"
    }
   ],
   "source": [
    "cli_remote"
   ]
  },
  {
   "cell_type": "markdown",
   "id": "fb8c756e-7032-44e9-84d4-a399cbe705ae",
   "metadata": {},
   "source": [
    "## collect fonts"
   ]
  },
  {
   "cell_type": "code",
   "execution_count": 33,
   "id": "d0f1a198-58c4-4d08-8bda-7223ace536fb",
   "metadata": {},
   "outputs": [],
   "source": [
    "path = '/mnt/d/grad23/opensans/fonts/ttf'"
   ]
  },
  {
   "cell_type": "code",
   "execution_count": 34,
   "id": "19ff247c-c718-450b-a041-9a792db88d1c",
   "metadata": {},
   "outputs": [],
   "source": [
    "fonts = [\n",
    "    os.path.join(path, font_name)\n",
    "    for font_name\n",
    "    in os.listdir(path)\n",
    "]"
   ]
  },
  {
   "cell_type": "code",
   "execution_count": 35,
   "id": "6a179daa-aaee-4d95-af44-6ab08cb6d60b",
   "metadata": {},
   "outputs": [
    {
     "data": {
      "text/plain": [
       "['/mnt/d/grad23/opensans/fonts/ttf/OpenSans-Bold.ttf',\n",
       " '/mnt/d/grad23/opensans/fonts/ttf/OpenSans-BoldItalic.ttf',\n",
       " '/mnt/d/grad23/opensans/fonts/ttf/OpenSans-CondensedBold.ttf',\n",
       " '/mnt/d/grad23/opensans/fonts/ttf/OpenSans-CondensedBoldItalic.ttf',\n",
       " '/mnt/d/grad23/opensans/fonts/ttf/OpenSans-CondensedExtraBold.ttf',\n",
       " '/mnt/d/grad23/opensans/fonts/ttf/OpenSans-CondensedExtraBoldItalic.ttf',\n",
       " '/mnt/d/grad23/opensans/fonts/ttf/OpenSans-CondensedItalic.ttf',\n",
       " '/mnt/d/grad23/opensans/fonts/ttf/OpenSans-CondensedLight.ttf',\n",
       " '/mnt/d/grad23/opensans/fonts/ttf/OpenSans-CondensedLightItalic.ttf',\n",
       " '/mnt/d/grad23/opensans/fonts/ttf/OpenSans-CondensedRegular.ttf',\n",
       " '/mnt/d/grad23/opensans/fonts/ttf/OpenSans-CondensedSemiBold.ttf',\n",
       " '/mnt/d/grad23/opensans/fonts/ttf/OpenSans-CondensedSemiBoldItalic.ttf',\n",
       " '/mnt/d/grad23/opensans/fonts/ttf/OpenSans-ExtraBold.ttf',\n",
       " '/mnt/d/grad23/opensans/fonts/ttf/OpenSans-ExtraBoldItalic.ttf',\n",
       " '/mnt/d/grad23/opensans/fonts/ttf/OpenSans-Italic.ttf',\n",
       " '/mnt/d/grad23/opensans/fonts/ttf/OpenSans-Light.ttf',\n",
       " '/mnt/d/grad23/opensans/fonts/ttf/OpenSans-LightItalic.ttf',\n",
       " '/mnt/d/grad23/opensans/fonts/ttf/OpenSans-Regular.ttf',\n",
       " '/mnt/d/grad23/opensans/fonts/ttf/OpenSans-SemiBold.ttf',\n",
       " '/mnt/d/grad23/opensans/fonts/ttf/OpenSans-SemiBoldItalic.ttf']"
      ]
     },
     "execution_count": 35,
     "metadata": {},
     "output_type": "execute_result"
    }
   ],
   "source": [
    "fonts"
   ]
  },
  {
   "cell_type": "markdown",
   "id": "6aeac9b1-3ac7-43cc-89c9-ecb4dba061a7",
   "metadata": {},
   "source": [
    "### convert"
   ]
  },
  {
   "cell_type": "code",
   "execution_count": 36,
   "id": "e0220c60-af66-4f0f-8d6d-f8dd8e0dd0d5",
   "metadata": {
    "scrolled": true
   },
   "outputs": [
    {
     "name": "stderr",
     "output_type": "stream",
     "text": [
      "The following table(s) in the font have been ignored by FontForge\n",
      "  Ignoring 'DSIG' digital signature table\n",
      "The glyph named macron is mapped to U+02C9.\n",
      "But its name indicates it should be mapped to U+00AF.\n",
      "The following table(s) in the font have been ignored by FontForge\n",
      "  Ignoring 'DSIG' digital signature table\n",
      "The glyph named macron is mapped to U+02C9.\n",
      "But its name indicates it should be mapped to U+00AF.\n",
      "The following table(s) in the font have been ignored by FontForge\n",
      "  Ignoring 'DSIG' digital signature table\n",
      "The glyph named macron is mapped to U+02C9.\n",
      "But its name indicates it should be mapped to U+00AF.\n",
      "The following table(s) in the font have been ignored by FontForge\n",
      "  Ignoring 'DSIG' digital signature table\n",
      "The glyph named macron is mapped to U+02C9.\n",
      "But its name indicates it should be mapped to U+00AF.\n",
      "The following table(s) in the font have been ignored by FontForge\n",
      "  Ignoring 'DSIG' digital signature table\n",
      "The glyph named macron is mapped to U+02C9.\n",
      "But its name indicates it should be mapped to U+00AF.\n",
      "Warning: OpenSans-CondensedExtraBold(/mnt/d/grad23/opensans/fonts/ttf/OpenSans-CondensedExtraBold.ttf) is both extended and condensed. That's impossible.\n",
      "The following table(s) in the font have been ignored by FontForge\n",
      "  Ignoring 'DSIG' digital signature table\n",
      "The glyph named macron is mapped to U+02C9.\n",
      "But its name indicates it should be mapped to U+00AF.\n",
      "Warning: OpenSans-CondensedExtraBoldItalic(/mnt/d/grad23/opensans/fonts/ttf/OpenSans-CondensedExtraBoldItalic.ttf) is both extended and condensed. That's impossible.\n",
      "The following table(s) in the font have been ignored by FontForge\n",
      "  Ignoring 'DSIG' digital signature table\n",
      "The glyph named macron is mapped to U+02C9.\n",
      "But its name indicates it should be mapped to U+00AF.\n",
      "The following table(s) in the font have been ignored by FontForge\n",
      "  Ignoring 'DSIG' digital signature table\n",
      "The glyph named macron is mapped to U+02C9.\n",
      "But its name indicates it should be mapped to U+00AF.\n",
      "The following table(s) in the font have been ignored by FontForge\n",
      "  Ignoring 'DSIG' digital signature table\n",
      "The glyph named macron is mapped to U+02C9.\n",
      "But its name indicates it should be mapped to U+00AF.\n",
      "The following table(s) in the font have been ignored by FontForge\n",
      "  Ignoring 'DSIG' digital signature table\n",
      "The glyph named macron is mapped to U+02C9.\n",
      "But its name indicates it should be mapped to U+00AF.\n",
      "The following table(s) in the font have been ignored by FontForge\n",
      "  Ignoring 'DSIG' digital signature table\n",
      "The glyph named macron is mapped to U+02C9.\n",
      "But its name indicates it should be mapped to U+00AF.\n",
      "The following table(s) in the font have been ignored by FontForge\n",
      "  Ignoring 'DSIG' digital signature table\n",
      "The glyph named macron is mapped to U+02C9.\n",
      "But its name indicates it should be mapped to U+00AF.\n",
      "The following table(s) in the font have been ignored by FontForge\n",
      "  Ignoring 'DSIG' digital signature table\n",
      "The glyph named macron is mapped to U+02C9.\n",
      "But its name indicates it should be mapped to U+00AF.\n",
      "The following table(s) in the font have been ignored by FontForge\n",
      "  Ignoring 'DSIG' digital signature table\n",
      "The glyph named macron is mapped to U+02C9.\n",
      "But its name indicates it should be mapped to U+00AF.\n",
      "The following table(s) in the font have been ignored by FontForge\n",
      "  Ignoring 'DSIG' digital signature table\n",
      "The glyph named macron is mapped to U+02C9.\n",
      "But its name indicates it should be mapped to U+00AF.\n",
      "The following table(s) in the font have been ignored by FontForge\n",
      "  Ignoring 'DSIG' digital signature table\n",
      "The glyph named macron is mapped to U+02C9.\n",
      "But its name indicates it should be mapped to U+00AF.\n",
      "The following table(s) in the font have been ignored by FontForge\n",
      "  Ignoring 'DSIG' digital signature table\n",
      "The glyph named macron is mapped to U+02C9.\n",
      "But its name indicates it should be mapped to U+00AF.\n",
      "The following table(s) in the font have been ignored by FontForge\n",
      "  Ignoring 'DSIG' digital signature table\n",
      "The glyph named macron is mapped to U+02C9.\n",
      "But its name indicates it should be mapped to U+00AF.\n",
      "The following table(s) in the font have been ignored by FontForge\n",
      "  Ignoring 'DSIG' digital signature table\n",
      "The glyph named macron is mapped to U+02C9.\n",
      "But its name indicates it should be mapped to U+00AF.\n",
      "The following table(s) in the font have been ignored by FontForge\n",
      "  Ignoring 'DSIG' digital signature table\n",
      "The glyph named macron is mapped to U+02C9.\n",
      "But its name indicates it should be mapped to U+00AF.\n"
     ]
    }
   ],
   "source": [
    "font_processors = [\n",
    "    font_processing.FontProcessor(faddr)\n",
    "    for faddr in fonts\n",
    "]"
   ]
  },
  {
   "cell_type": "code",
   "execution_count": 37,
   "id": "17e595f1-4364-4fa6-beec-badb646665be",
   "metadata": {},
   "outputs": [],
   "source": [
    "glyphsets = [\n",
    "    processor.glyphset_from_unicode_subset(\n",
    "        font_processing.get_alphabet('all')\n",
    "    )\n",
    "    for processor in font_processors\n",
    "]"
   ]
  },
  {
   "cell_type": "code",
   "execution_count": 38,
   "id": "7fd6b790-da32-4a54-adb7-3fbc51ff7d28",
   "metadata": {},
   "outputs": [],
   "source": [
    "jsons = [\n",
    "    glyphset.to_json()\n",
    "    for glyphset in glyphsets\n",
    "]"
   ]
  },
  {
   "cell_type": "code",
   "execution_count": 40,
   "id": "664c02e4-282d-4732-b11a-db0d6508da7f",
   "metadata": {},
   "outputs": [
    {
     "data": {
      "text/plain": [
       "{'panose': (0, 0, 0, 0, 0, 0, 0, 0, 0, 0),\n",
       " 'unicoderanges': (-536870145, 1073750043, 40, 0),\n",
       " 'weight': 800,\n",
       " 'cap_height': 1462.0,\n",
       " 'family_name': 'Open Sans Condensed ExtraBold',\n",
       " 'font_name': 'Open Sans Condensed ExtraBold Italic',\n",
       " 'glyphs': [{'letter': '!',\n",
       "   'path': 'M113 516l155 946h375l-246 -946h-284zM147 -25q-159 0 -159 140q0 95 60 169t175 74q68 0 107 -36t39 -101q0 -112 -67 -179t-155 -67z'},\n",
       "  {'letter': '\"',\n",
       "   'path': 'M616 934l76 528h348l-149 -528h-275zM188 934l76 528h346l-147 -528h-275z'},\n",
       "  {'letter': '#',\n",
       "   'path': 'M43 0l123 391h-158l43 234h187l69 209h-170l43 239h199l123 389h241l-125 -389h127l123 389h244l-125 -389h162l-45 -239h-189l-67 -209h172l-43 -234h-201l-125 -391h-239l123 391h-129l-123 -391h-240zM479 625h127l68 209h-127z'},\n",
       "  {'letter': '$',\n",
       "   'path': 'M27 170l69 334q73 -66 161 -111t179 -45q59 0 99 34t40 91q0 42 -21.5 70.5t-95.5 68.5q-54 30 -115.5 74.5t-104.5 112t-43 166.5q0 157 62.5 253.5t159.5 143.5t199 53l29 139h105l-29 -139q107 -7 172 -34t117 -62l-146 -283q-60 50 -123.5 79t-135.5 29 q-58 0 -94 -31.5t-36 -88.5q0 -31 23.5 -57.5t97.5 -70.5q62 -36 122 -79t100 -107.5t40 -168.5q0 -151 -61 -251.5t-157.5 -154t-203.5 -63.5l-41 -191l-104 -2l41 193q-111 5 -181.5 32.5t-123.5 65.5z'},\n",
       "  {'letter': '%',\n",
       "   'path': 'M360 565q-247 0 -247 303q0 85 23.5 190t72.5 202t126 160t185 63q113 0 180.5 -73t67.5 -236q0 -62 -14 -142t-44.5 -161.5t-78.5 -151t-115 -112t-156 -42.5zM305 0l823 1462h254l-823 -1462h-254zM391 791q29 0 53 44t42 108.5t28 130t10 108.5q0 71 -35 71 q-28 0 -52.5 -43.5t-43 -108t-29 -129.5t-10.5 -108q0 -73 37 -73zM1174 -16q-248 0 -248 303q0 111 27.5 220t80.5 198t128 142.5t169 53.5q113 0 180.5 -72.5t67.5 -236.5q0 -65 -14.5 -145.5t-45 -162t-78.5 -149.5t-114.5 -109.5t-152.5 -41.5zM1204 211q29 0 53 42.5 t42 106t28 129t10 111.5q0 72 -37 72q-26 0 -47.5 -32.5t-37.5 -83t-26.5 -105.5t-16 -100.5t-5.5 -67.5q0 -72 37 -72z'},\n",
       "  {'letter': '&',\n",
       "   'path': 'M340 -20q-154 0 -245 87t-91 244q0 152 88 281.5t236 214.5q-26 53 -41 112t-15 138q0 117 55 213t152.5 153.5t225.5 57.5q80 0 152.5 -28.5t118.5 -88.5t46 -156q0 -126 -80.5 -235.5t-212.5 -204.5l78 -152q20 39 42 90t44 115h342q-32 -87 -77 -180t-96.5 -179 t-103.5 -153l158 -309h-411l-33 76q-89 -52 -161.5 -74t-170.5 -22zM614 981q41 34 70 84.5t29 97.5q0 25 -8.5 50.5t-42.5 25.5q-26 0 -42 -22.5t-23 -52.5t-7 -54q0 -70 24 -129zM430 272q32 0 62 12.5t65 37.5l-123 266q-82 -79 -82 -219q0 -97 78 -97z'},\n",
       "  {'letter': \"'\", 'path': 'M188 934l76 528h346l-147 -528h-275z'},\n",
       "  {'letter': '(',\n",
       "   'path': 'M86 -324q-22 53 -36 133t-20.5 168t-6.5 162q0 163 33 353t94 380t144 355t183 276h277q-85 -119 -163 -278.5t-139.5 -341.5t-97 -369.5t-35.5 -361.5q0 -133 9 -248t37 -228h-279z'},\n",
       "  {'letter': ')',\n",
       "   'path': 'M-166 -324q84 119 161.5 278.5t138.5 341t96.5 369t35.5 361.5q0 125 -8 249.5t-37 227.5h281q40 -107 50.5 -221.5t10.5 -243.5q0 -176 -34.5 -369t-95.5 -380t-143.5 -346t-178.5 -267h-277z'},\n",
       "  {'letter': '*',\n",
       "   'path': 'M639 618l-96 273l-156 -244l-213 217l223 199l-260 72l101 280l233 -139v301l299 -35l-70 -293l261 82l30 -297l-268 -8l174 -246z'},\n",
       "  {'letter': '+',\n",
       "   'path': 'M670 856h305v-268h-305v-361h-275v361h-305v268h305v367h275v-367z'},\n",
       "  {'letter': ',',\n",
       "   'path': 'M-121 -285q32 90 67.5 191.5t68 203t55.5 189.5h319l4 -20q-55 -166 -115.5 -307t-125.5 -257h-273z'},\n",
       "  {'letter': '-', 'path': 'M18 393l66 312h522l-67 -312h-521z'},\n",
       "  {'letter': '.',\n",
       "   'path': 'M152 -25q-160 0 -160 140q0 95 60 169t173 74q69 0 108.5 -36t39.5 -101q0 -112 -67.5 -179t-153.5 -67z'},\n",
       "  {'letter': '/', 'path': 'M-117 -20l817 1503h304l-818 -1503h-303z'},\n",
       "  {'letter': '0',\n",
       "   'path': 'M385 -20q-164 0 -241.5 100t-77.5 313q0 82 13 193t41.5 234t74 240.5t110 213t151 152.5t195.5 57q166 0 245 -102t79 -326q0 -123 -23 -268t-69.5 -287t-117 -260t-165.5 -189t-215 -71zM426 281q27 0 54 45t53.5 119t49 163.5t39.5 179.5t27 167t10 124q0 103 -43 103 q-28 0 -56 -48t-54.5 -126t-49 -170.5t-39.5 -183.5t-26.5 -164t-9.5 -111q0 -98 45 -98z'},\n",
       "  {'letter': '1',\n",
       "   'path': 'M326 0l161 770q16 71 27.5 120t28.5 107q-17 -21 -35.5 -42t-38.5 -40l-135 -129l-154 211l492 465h301l-311 -1462h-336z'},\n",
       "  {'letter': '2',\n",
       "   'path': 'M-57 0l51 238l360 407q65 74 124 152t96.5 155t37.5 148q0 38 -13.5 61t-45.5 23q-38 0 -81.5 -28.5t-86.5 -68.5t-78 -75l-108 235q103 125 210.5 180.5t227.5 55.5q143 0 234.5 -86.5t91.5 -225.5q0 -175 -92 -323t-232 -293l-242 -250v-6h406l-64 -299h-796z'},\n",
       "  {'letter': '3',\n",
       "   'path': 'M295 -20q-94 0 -157 16.5t-144 60.5v320q71 -58 159.5 -80.5t145.5 -22.5q94 0 149.5 50.5t55.5 148.5q0 62 -42.5 97.5t-144.5 35.5h-79l59 285h82q112 0 182 51t70 162q0 84 -86 84q-43 0 -106.5 -22t-137.5 -74l-61 260q104 77 196.5 104t196.5 27q90 0 170 -27.5 t130 -90.5t50 -171q0 -149 -91 -259.5t-237 -164.5v-6q205 -53 205 -275q0 -147 -72 -262t-199.5 -181t-293.5 -66z'},\n",
       "  {'letter': '4',\n",
       "   'path': 'M352 0l60 283h-428l57 270l633 909h319l-190 -899h131l-60 -280h-131l-59 -283h-332zM297 563h174l66 303q5 22 15.5 56t16.5 59h-6q-25 -47 -34 -64.5t-15 -25.5z'},\n",
       "  {'letter': '5',\n",
       "   'path': 'M330 -20q-97 0 -167.5 15.5t-123.5 43.5v342q57 -49 134 -78t157 -29q62 0 105 39.5t66 100t23 123.5q0 133 -125 133q-37 0 -74 -11t-77 -28l-92 78l196 753h649l-63 -301h-360l-58 -215q32 8 57 10t44 2q116 0 188 -92.5t72 -261.5q0 -100 -27 -209t-89.5 -203.5 t-169 -153t-265.5 -58.5z'},\n",
       "  {'letter': '6',\n",
       "   'path': 'M428 -20q-196 0 -279 120.5t-83 325.5q0 142 36 303t108.5 312t180.5 259q83 83 187.5 133t228.5 50q74 0 128 -4.5t103 -14.5l-61 -293q-87 25 -168 25q-126 0 -211.5 -91t-134.5 -255h4q41 59 98 92t123 33q128 0 180 -99t52 -249q0 -100 -28.5 -212.5t-88 -211 t-152.5 -161t-223 -62.5zM442 274q38 0 63.5 37.5t41 92t22 108.5t6.5 86q0 90 -45 90q-35 0 -61 -37q-23 -27 -39.5 -74.5t-24.5 -98.5t-8 -89q0 -115 45 -115z'},\n",
       "  {'letter': '7',\n",
       "   'path': 'M55 0l621 1159h-467l63 301h809l-49 -225l-626 -1235h-351z'},\n",
       "  {'letter': '8',\n",
       "   'path': 'M406 -20q-183 0 -285.5 86.5t-102.5 244.5q0 140 77 250.5t222 202.5q-55 60 -80.5 132.5t-25.5 141.5q0 127 54 227.5t155.5 159t241.5 58.5q152 0 243.5 -75t91.5 -224q0 -129 -72 -233t-200 -181q82 -73 114.5 -151t32.5 -168q0 -122 -60 -229.5t-165.5 -174.5 t-240.5 -67zM565 938q57 43 83 93.5t26 105.5q0 41 -16 58t-44 17q-41 0 -65.5 -43.5t-24.5 -109.5q0 -32 12.5 -65t28.5 -56zM416 250q68 0 102.5 57.5t34.5 124.5q0 86 -68 166q-56 -43 -98.5 -111t-42.5 -149q0 -88 72 -88z'},\n",
       "  {'letter': '9',\n",
       "   'path': 'M250 -20q-70 0 -123 7t-102 17v293q44 -16 99.5 -23.5t108.5 -7.5q126 0 211 91t136 255h-5q-44 -56 -100 -90.5t-121 -34.5q-85 0 -135.5 43t-73 116.5t-22.5 164.5q0 79 18 170.5t55.5 180t97.5 161.5t143 116.5t192 43.5q172 0 260 -117.5t88 -329.5 q0 -81 -22.5 -219.5t-75.5 -286.5q-39 -104 -95 -202.5t-133 -177t-176.5 -124.5t-224.5 -46zM512 774q25 0 44.5 18.5t35.5 47.5q26 49 39.5 116.5t13.5 116.5q0 115 -45 115q-34 0 -59.5 -38t-41.5 -92.5t-24 -108t-8 -85.5q0 -90 45 -90z'},\n",
       "  {'letter': ':',\n",
       "   'path': 'M328 766q-160 0 -160 139q0 63 26.5 118.5t78.5 90.5t128 35q68 0 107 -36t39 -101q0 -112 -66.5 -179t-152.5 -67zM158 -25q-160 0 -160 140q0 95 60 169t173 74q70 0 109 -36t39 -101q0 -112 -67.5 -179t-153.5 -67z'},\n",
       "  {'letter': ';',\n",
       "   'path': 'M328 766q-160 0 -160 139q0 63 26.5 118.5t78.5 90.5t128 35q68 0 107 -36t39 -101q0 -112 -66.5 -179t-152.5 -67zM-121 -285q53 140 100 284.5t89 299.5h319l6 -20q-57 -166 -117 -307t-126 -257h-271z'},\n",
       "  {'letter': '<',\n",
       "   'path': 'M975 229l-895 424v172l895 422v-297l-504 -211l504 -215v-295z'},\n",
       "  {'letter': '=',\n",
       "   'path': 'M90 815v268h885v-268h-885zM90 358v271h885v-271h-885z'},\n",
       "  {'letter': '>',\n",
       "   'path': 'M90 524l504 215l-504 211v297l895 -422v-172l-895 -424v295z'},\n",
       "  {'letter': '?',\n",
       "   'path': 'M186 516q15 91 35.5 151t53 105t81.5 90q78 72 118 112t53.5 68.5t13.5 65.5q0 35 -22.5 57.5t-59.5 22.5q-64 0 -128.5 -33t-123.5 -74l-39 256q97 74 194 110t189 36q155 0 235 -75.5t80 -207.5q0 -100 -37 -183t-96 -151t-125 -125q-44 -37 -69 -64.5t-39.5 -63 t-28.5 -97.5h-285zM223 -25q-162 0 -162 140q0 95 60.5 169t175.5 74q68 0 106.5 -36t38.5 -101q0 -112 -66.5 -179t-152.5 -67z'},\n",
       "  {'letter': '@',\n",
       "   'path': 'M616 -154q-276 0 -423.5 140t-147.5 387q0 219 65 418t183.5 354.5t282.5 245.5t362 90q150 0 265.5 -63.5t181 -181t65.5 -278.5q0 -120 -30 -247t-86.5 -235.5t-136 -175.5t-177.5 -67q-97 0 -137.5 32.5t-57.5 90.5h-6q-97 -123 -196 -123q-120 0 -176 65.5t-56 190.5 q0 89 28 196t85 205t143 161t203 63q95 0 168 -17t127 -46l-129 -539q-3 -10 -4.5 -22.5t-1.5 -20.5q0 -43 22 -43q44 0 77.5 38.5t57 100t38 131.5t21.5 134.5t7 107.5q0 173 -83.5 260.5t-229.5 87.5q-148 0 -269 -76t-207.5 -204t-133 -287t-46.5 -326q0 -158 84 -254 t262 -96q100 0 199.5 22t216.5 74v-194q-98 -46 -208.5 -72.5t-201.5 -26.5zM678 426q82 0 139 223l66 262q-22 9 -54 9q-45 0 -82 -41t-63 -105t-40.5 -134t-14.5 -128q0 -86 49 -86z'},\n",
       "  {'letter': 'A',\n",
       "   'path': 'M-119 0l631 1468h436l23 -1468h-365l8 285h-249l-109 -285h-375zM477 582h156l16 379q2 49 4 97t9 105h-7q-9 -53 -21.5 -99.5t-29.5 -96.5z'},\n",
       "  {'letter': 'B',\n",
       "   'path': 'M-10 0l309 1462h397q100 0 188.5 -29t144.5 -97.5t56 -188.5q0 -127 -64 -231t-198 -150v-8q66 -29 106 -98.5t40 -167.5q0 -125 -57.5 -237.5t-171.5 -183.5t-283 -71h-467zM520 893h55q68 0 108 62t40 135q0 90 -92 90h-49zM393 289h62q81 0 121 67.5t40 155.5 q0 109 -90 109h-63z'},\n",
       "  {'letter': 'C',\n",
       "   'path': 'M446 -20q-185 0 -280.5 127.5t-95.5 341.5q0 145 29.5 292t86 280t138 237.5t186 164.5t229.5 60q92 0 184 -23t169 -82l-160 -270q-98 76 -178 76q-67 0 -119.5 -56t-90.5 -144.5t-63 -188t-37 -188t-12 -142.5q0 -100 28.5 -142t80.5 -42q68 0 133.5 22.5t128.5 54.5 v-303q-79 -40 -175 -57.5t-182 -17.5z'},\n",
       "  {'letter': 'D',\n",
       "   'path': 'M-10 0l309 1462h336q235 0 357 -124t122 -341q0 -137 -27.5 -278t-85 -269.5t-146.5 -230t-211 -160.5t-279 -59h-375zM395 303h21q74 0 130.5 48t96 125t64 166t36 173.5t11.5 145.5q0 200 -148 200h-28z'},\n",
       "  {'letter': 'E',\n",
       "   'path': 'M-10 0l309 1462h664l-62 -295h-321l-58 -264h299l-63 -295h-297l-68 -309h324l-64 -299h-663z'},\n",
       "  {'letter': 'F',\n",
       "   'path': 'M-10 0l309 1462h662l-62 -295h-319l-68 -313h295l-64 -295h-294l-117 -559h-342z'},\n",
       "  {'letter': 'G',\n",
       "   'path': 'M524 -20q-232 0 -341 125.5t-109 351.5q0 138 28.5 282.5t87 277.5t148.5 238t213 166.5t280 61.5q107 0 202 -26.5t153 -67.5l-146 -289q-55 40 -116.5 62t-126.5 22q-83 0 -150.5 -66.5t-115.5 -172t-73.5 -226t-25.5 -227.5q0 -211 121 -211q42 0 88 12l57 272h-141 l59 291h480l-166 -784q-117 -46 -225 -69t-181 -23z'},\n",
       "  {'letter': 'H',\n",
       "   'path': 'M-10 0l309 1462h342l-117 -553h252l119 553h342l-311 -1462h-342l129 610h-252l-129 -610h-342z'},\n",
       "  {'letter': 'I', 'path': 'M-12 0l311 1462h342l-311 -1462h-342z'},\n",
       "  {'letter': 'J',\n",
       "   'path': 'M-131 -459q-64 0 -109 6t-84 19l64 299q60 -29 108 -29q56 0 88.5 44t50 105t27.5 111l291 1366h342l-299 -1415q-58 -273 -182 -389.5t-297 -116.5z'},\n",
       "  {'letter': 'K',\n",
       "   'path': 'M-10 0l309 1462h342l-123 -588l72 140l293 448h377l-463 -690l149 -772h-377l-73 532l-60 -36l-104 -496h-342z'},\n",
       "  {'letter': 'L', 'path': 'M-10 0l309 1462h342l-248 -1163h344l-61 -299h-686z'},\n",
       "  {'letter': 'M',\n",
       "   'path': 'M-10 0l309 1462h444l21 -844h6l358 844h474l-312 -1462h-332l142 662q8 40 19 78.5t22 78.5h-6l-361 -819h-278l-17 807h-6q-9 -61 -17.5 -116.5t-19.5 -104.5l-125 -586h-321z'},\n",
       "  {'letter': 'N',\n",
       "   'path': 'M-10 0l309 1462h379l151 -835h7q12 81 25 158t24 130l116 547h322l-309 -1462h-381l-152 862h-4q-13 -95 -25.5 -174.5t-23.5 -132.5l-119 -555h-319z'},\n",
       "  {'letter': 'O',\n",
       "   'path': 'M498 -20q-218 0 -322 119.5t-104 375.5q0 138 28.5 281t85 273.5t139 233t191 162.5t240.5 60q221 0 320.5 -125.5t99.5 -368.5q0 -118 -24 -255t-75 -270.5t-131 -243.5t-191 -176t-257 -66zM522 285q57 0 103.5 50.5t82.5 133t61 178.5t37.5 189.5t12.5 164.5 q0 185 -92 185q-56 0 -103 -50t-83 -132t-60.5 -177.5t-37.5 -189t-13 -164.5q0 -115 24 -151.5t68 -36.5z'},\n",
       "  {'letter': 'P',\n",
       "   'path': 'M-10 0l309 1462h358q209 0 300.5 -96.5t91.5 -253.5q0 -105 -30 -215.5t-94.5 -203.5t-166 -150.5t-244.5 -57.5h-80l-102 -485h-342zM496 780h24q82 0 129 80.5t47 206.5q0 60 -24 80t-74 20h-18z'},\n",
       "  {'letter': 'Q',\n",
       "   'path': 'M512 -348l-88 332q-7 0 -15 1.5t-16 2.5q-164 26 -242.5 144.5t-78.5 342.5q0 138 28.5 281t85 273.5t139 233t191 162.5t240.5 60q221 0 320.5 -125.5t99.5 -368.5q0 -117 -23.5 -252t-73 -267.5t-127.5 -242.5t-186 -176l139 -401h-393zM522 285q57 0 103.5 50.5 t82.5 133t61 178.5t37.5 189.5t12.5 164.5q0 185 -92 185q-56 0 -103 -50t-83 -132t-60.5 -177.5t-37.5 -189t-13 -164.5q0 -115 24 -151.5t68 -36.5z'},\n",
       "  {'letter': 'R',\n",
       "   'path': 'M-10 0l309 1462h330q226 0 330 -89.5t104 -256.5q0 -187 -74.5 -316t-200.5 -186l156 -614h-379l-98 543h-23l-112 -543h-342zM506 819h29q57 0 93.5 38.5t54 96.5t17.5 115q0 107 -98 107h-22z'},\n",
       "  {'letter': 'S',\n",
       "   'path': 'M311 -20q-109 0 -193 20.5t-155 75.5l74 348q52 -46 129 -84.5t147 -38.5q31 0 65 10t57.5 39t23.5 86q0 47 -22.5 87.5t-94.5 101.5q-95 80 -137.5 166t-42.5 215q0 131 54 239.5t165 173t281 64.5q83 0 174 -27t168 -84l-152 -307q-61 49 -115 75.5t-94 26.5 q-46 0 -83.5 -30t-37.5 -99q0 -38 22.5 -79.5t104.5 -104.5q95 -73 133.5 -162.5t38.5 -214.5q0 -126 -55 -240t-168 -185.5t-287 -71.5z'},\n",
       "  {'letter': 'T',\n",
       "   'path': 'M150 0l245 1161h-235l63 301h815l-63 -301h-238l-245 -1161h-342z'},\n",
       "  {'letter': 'U',\n",
       "   'path': 'M451 -20q-177 0 -278 94.5t-101 261.5q0 35 5.5 81.5t14.5 92.5l203 952h342l-203 -958q-7 -31 -10.5 -59t-3.5 -50q0 -58 19.5 -84t58.5 -26q60 0 97 49t62 172l205 956h342l-215 -1009q-49 -232 -176 -352.5t-362 -120.5z'},\n",
       "  {'letter': 'V',\n",
       "   'path': 'M219 0l-29 1462h353l-19 -741q-1 -63 -6 -119.5t-14 -134.5h4q15 63 34.5 124.5t45.5 125.5l297 745h366l-639 -1462h-393z'},\n",
       "  {'letter': 'W',\n",
       "   'path': 'M135 0l55 1462h330l-33 -606q-4 -81 -10 -144t-12 -110h2q23 62 46.5 123t49.5 127l248 610h279l-23 -610q-3 -76 -6 -129t-8 -119h4q15 53 37 112t51 138l225 608h344l-557 -1462h-389l10 516q0 43 4 96t11 107h-5q-15 -46 -30.5 -92t-34.5 -90l-205 -537h-383z'},\n",
       "  {'letter': 'X',\n",
       "   'path': 'M-121 0l471 731l-143 731h358l47 -364l195 364h369l-441 -719l174 -743h-370l-60 385l-233 -385h-367z'},\n",
       "  {'letter': 'Y',\n",
       "   'path': 'M211 0l115 549l-136 913h357l39 -469l237 469h367l-518 -901l-119 -561h-342z'},\n",
       "  {'letter': 'Z',\n",
       "   'path': 'M-80 0l49 240l619 927h-410l62 295h800l-49 -239l-620 -924h434l-64 -299h-821z'},\n",
       "  {'letter': '[',\n",
       "   'path': 'M-102 -344l393 1847h465l-54 -254h-172l-284 -1339h172l-56 -254h-464z'},\n",
       "  {'letter': '\\\\', 'path': 'M397 -20l-196 1503h286l197 -1503h-287z'},\n",
       "  {'letter': ']',\n",
       "   'path': 'M-160 -344l54 254h169l287 1339h-172l53 254h467l-393 -1847h-465z'},\n",
       "  {'letter': '^',\n",
       "   'path': 'M-41 496l616 966h181l207 -966h-291l-101 485l-309 -485h-303z'},\n",
       "  {'letter': 'a',\n",
       "   'path': 'M264 -20q-109 0 -172 91.5t-63 247.5q0 87 17 197t51.5 221.5t87.5 206t126 152t166 57.5q65 0 118.5 -35t84.5 -121h6l53 136h287l-242 -1133h-266l-8 135h-8q-52 -66 -105.5 -110.5t-132.5 -44.5zM412 256q44 0 75.5 47.5t52.5 114.5t33 125q22 95 27.5 140.5t5.5 74.5 q0 110 -61 110q-31 0 -58.5 -37t-49.5 -96t-37.5 -126.5t-24 -130.5t-8.5 -107q0 -115 45 -115z'},\n",
       "  {'letter': 'b',\n",
       "   'path': 'M510 -20q-138 0 -205 137h-6l-59 -117h-267l332 1556h328l-72 -335q-4 -26 -18 -77t-31 -108h4q53 68 106.5 92.5t120.5 24.5q104 0 167 -90.5t63 -245.5q0 -96 -18.5 -208.5t-55.5 -223.5t-92.5 -202.5t-129.5 -147t-167 -55.5zM455 256q33 0 64.5 55t57.5 137t41 166 t15 142q0 112 -49 112q-45 0 -80.5 -54.5t-60 -136.5t-37.5 -166t-13 -144q0 -111 62 -111z'},\n",
       "  {'letter': 'c',\n",
       "   'path': 'M362 -20q-156 0 -240.5 99.5t-84.5 268.5q0 102 18.5 213.5t58.5 216.5t105 190t157 135t214 50q162 0 287 -88l-134 -258q-31 28 -71.5 45.5t-77.5 17.5q-62 0 -104.5 -53.5t-67.5 -132.5t-36 -157.5t-11 -127.5q0 -137 76 -137q92 0 225 98v-278q-55 -41 -140.5 -71.5 t-173.5 -30.5z'},\n",
       "  {'letter': 'd',\n",
       "   'path': 'M264 -20q-109 0 -172 91.5t-63 247.5q0 83 17 192t50.5 221t85 207.5t120 154.5t155.5 59q71 0 131 -29t92 -100h6q6 59 13.5 106.5t13.5 73.5l75 352h328l-332 -1556h-266l-8 117h-8q-60 -66 -109.5 -101.5t-128.5 -35.5zM412 256q45 0 81 55.5t61 138t38.5 166.5 t13.5 142q0 110 -61 110q-35 0 -63.5 -41t-50 -105t-35.5 -134t-21.5 -129t-7.5 -88q0 -115 45 -115z'},\n",
       "  {'letter': 'e',\n",
       "   'path': 'M408 -20q-174 0 -273.5 101t-99.5 279q0 133 32 272t101 256.5t178 190t262 72.5q143 0 233.5 -79.5t90.5 -213.5q0 -137 -70 -225t-193.5 -130t-285.5 -42h-21q-6 -34 -6 -66q0 -84 32 -117.5t95 -33.5q74 0 134 17t145 65v-244q-91 -60 -178 -81t-176 -21zM412 694h4 q131 0 174 37.5t43 93.5q0 31 -20.5 50.5t-51.5 19.5q-43 0 -81.5 -47t-67.5 -154z'},\n",
       "  {'letter': 'f',\n",
       "   'path': 'M-74 -492q-37 0 -73.5 4t-77.5 19v285q18 -10 51 -15.5t51 -5.5q66 0 86.5 43t30.5 96l194 926h-110l35 170l131 92l16 70q12 55 33 119.5t60.5 123t104 95.5t163.5 37q59 0 120.5 -13t124.5 -45l-110 -245q-47 26 -86 26q-37 0 -54.5 -27t-25.5 -61l-17 -69h166 l-55 -273h-166l-205 -952q-26 -128 -69.5 -217.5t-119 -136t-198.5 -46.5z'},\n",
       "  {'letter': 'g',\n",
       "   'path': 'M254 -492q-205 0 -302 71t-97 198q0 116 74 197.5t200 117.5q-32 14 -58 52.5t-26 92.5q0 69 44 120t110 100q-37 27 -60 91t-23 138q0 124 58.5 235t171.5 172q102 55 229 55q65 0 110 -10.5t72 -18.5h367l-40 -190l-141 -49q8 -35 8 -67q0 -82 -37 -174.5t-96 -151.5 q-120 -118 -338 -120q-48 0 -66 -1.5t-24 -3.5q-32 -11 -51.5 -36t-19.5 -50q0 -15 21 -19q11 -2 30 -2.5t46 -0.5h202q115 0 179.5 -59t64.5 -175q0 -157 -72 -267.5t-194 -172.5q-147 -72 -342 -72zM477 592q98 0 143 194q14 62 14 92q0 28 -10 38t-31 10q-43 0 -71 -30.5 t-45 -75.5t-28 -90q-14 -61 -14 -90q0 -48 42 -48zM267 -250q50 0 95.5 9t82.5 28q44 22 70.5 57t26.5 83q0 17 -18 24q-24 9 -92 9h-154q-32 0 -58 -29t-41.5 -65.5t-15.5 -61.5q0 -31 26 -42.5t78 -11.5z'},\n",
       "  {'letter': 'h',\n",
       "   'path': 'M-27 0l332 1556h328l-62 -284q-12 -58 -32 -123t-41 -125h6q44 63 99.5 96t131.5 33q111 0 172.5 -73.5t61.5 -196.5q0 -35 -5.5 -77.5t-13.5 -82.5l-153 -723h-328l133 631q9 41 15 79.5t6 75.5q0 28 -13 50t-47 22q-29 0 -63.5 -44t-63.5 -179l-133 -635h-330z'},\n",
       "  {'letter': 'i',\n",
       "   'path': 'M412 1243q-152 0 -152 125q0 50 21.5 101t68 85.5t119.5 34.5q72 0 112 -31t40 -94q0 -94 -57.5 -157.5t-151.5 -63.5zM-25 0l242 1133h326l-240 -1133h-328z'},\n",
       "  {'letter': 'j',\n",
       "   'path': 'M412 1243q-152 0 -152 125q0 50 21.5 101t68 85.5t119.5 34.5q72 0 112 -31t40 -94q0 -94 -57.5 -157.5t-151.5 -63.5zM-104 -492q-37 0 -74 4t-78 19v285q19 -10 51.5 -15.5t50.5 -5.5q54 0 78 33.5t39 105.5l254 1199h326l-260 -1225q-27 -128 -70.5 -217.5 t-118.5 -136t-198 -46.5z'},\n",
       "  {'letter': 'k',\n",
       "   'path': 'M-27 0l332 1556h328l-129 -602q-25 -111 -62 -229h4l304 408h356l-379 -490l160 -643h-357l-88 379l-80 -68l-59 -311h-330z'},\n",
       "  {'letter': 'l', 'path': 'M-27 0l332 1556h328l-330 -1556h-330z'},\n",
       "  {'letter': 'm',\n",
       "   'path': 'M-27 0l242 1133h262l-6 -129h8q47 68 112 108.5t140 40.5q172 0 225 -139h7q50 63 119 101t143 38q110 0 168.5 -65.5t58.5 -184.5q0 -73 -22 -180l-154 -723h-328l133 629q21 95 21 153q0 76 -47 76q-39 0 -66 -42t-44.5 -102t-29.5 -114l-127 -600h-327l133 629 q9 44 15.5 87t6.5 70q0 72 -45 72q-36 0 -64 -42t-47 -102t-30 -114l-127 -600h-330z'},\n",
       "  {'letter': 'n',\n",
       "   'path': 'M-27 0l242 1133h262l-4 -132h6q50 71 111 111.5t133 40.5q61 0 117 -24t92.5 -81.5t36.5 -160.5q0 -31 -4 -70.5t-15 -93.5l-153 -723h-328l133 631q9 44 16 86t7 69q0 72 -52 72q-53 0 -87.5 -80.5t-59.5 -193.5l-123 -584h-330z'},\n",
       "  {'letter': 'o',\n",
       "   'path': 'M395 -20q-169 0 -263.5 104t-94.5 287q0 89 18.5 194.5t59 209t105.5 189t157.5 137.5t216.5 52q166 0 259 -106.5t93 -284.5q0 -96 -19.5 -203.5t-60.5 -210t-106 -186t-155.5 -133t-209.5 -49.5zM434 256q40 0 73.5 54.5t57.5 137t37.5 168t13.5 146.5q0 115 -65 115 q-42 0 -76 -54.5t-58 -137t-37 -168.5t-13 -148q0 -113 67 -113z'},\n",
       "  {'letter': 'p',\n",
       "   'path': 'M-129 -492l344 1625h266l-4 -144h8q59 91 119.5 127.5t130.5 36.5q108 0 172 -83.5t64 -258.5q0 -98 -18.5 -210.5t-55 -222.5t-90.5 -200t-126 -144t-161 -54q-67 0 -119 36.5t-79 102.5h-7q-6 -57 -13.5 -105.5t-12.5 -74.5l-92 -431h-326zM455 264q38 0 70.5 54 t56.5 135.5t37.5 165.5t13.5 143q0 115 -45 115q-35 0 -65 -38.5t-54 -99t-41 -129.5t-26 -131.5t-9 -103.5q0 -111 62 -111z'},\n",
       "  {'letter': 'q',\n",
       "   'path': 'M352 -492l86 406q6 26 19.5 76.5t29.5 105.5h-6q-52 -67 -104.5 -91.5t-120.5 -24.5q-103 0 -166 84.5t-63 238.5q0 89 18 200.5t54 225.5t91 210t130 155t169 59q85 0 129.5 -36.5t69.5 -119.5h4l47 136h287l-346 -1625h-328zM416 264q45 0 80.5 54.5t60 137t37 170 t12.5 154.5q0 88 -63 88q-37 0 -69 -53t-56 -133t-37.5 -163t-13.5 -142q0 -113 49 -113z'},\n",
       "  {'letter': 'r',\n",
       "   'path': 'M-25 0l240 1133h258l-4 -164h8q56 98 113 141t145 43q20 0 40.5 -2.5t51.5 -11.5l-102 -361q-45 19 -100 19q-85 0 -135 -68t-68 -160l-119 -569h-328z'},\n",
       "  {'letter': 's',\n",
       "   'path': 'M295 -20q-109 0 -173 16t-126 51v303q62 -41 132 -63.5t124 -22.5q41 0 71.5 19t30.5 57q0 26 -17 61.5t-85 90.5q-92 75 -116.5 144.5t-24.5 139.5q0 105 42 190.5t126.5 136t209.5 50.5q97 0 186.5 -27.5t149.5 -70.5l-125 -248q-50 44 -105.5 63t-84.5 19 q-61 0 -61 -64q0 -29 15 -54t85 -81q74 -60 113.5 -126.5t39.5 -188.5q0 -105 -48 -195t-139 -145t-220 -55z'},\n",
       "  {'letter': 't',\n",
       "   'path': 'M319 -20q-133 0 -186 75t-53 189q0 37 5 79.5t17 100.5l93 436h-103l35 170l156 92l114 238h232l-49 -227h192l-57 -273h-193l-102 -483q-3 -14 -5.5 -28t-2.5 -25q0 -58 55 -58q15 0 51 7t74 24v-262q-57 -31 -136.5 -43t-136.5 -12z'},\n",
       "  {'letter': 'u',\n",
       "   'path': 'M285 -20q-120 0 -183 71.5t-63 194.5q0 35 5.5 78t12.5 88l154 721h328l-133 -629q-21 -100 -21 -158q0 -34 11 -53t40 -19q53 0 87 81t59 196l125 582h327l-239 -1133h-263l5 131h-7q-49 -69 -110 -110t-135 -41z'},\n",
       "  {'letter': 'v',\n",
       "   'path': 'M174 0l-47 1133h328l-6 -445q0 -50 -1.5 -101t-9.5 -104h8q7 26 19 57.5t22 59.5l218 533h346l-529 -1133h-348z'},\n",
       "  {'letter': 'w',\n",
       "   'path': 'M102 0l29 1133h322l-23 -355q-4 -64 -11 -126.5t-13 -119.5h6q14 47 33 106.5t40 117.5l140 377h372l-24 -383q-4 -66 -10 -126.5t-11 -113.5h6q19 63 41.5 134t44.5 134l130 355h327l-457 -1133h-376l34 510l8 92t7 92h-6q-14 -43 -27 -81t-27 -78l-194 -535h-361z'},\n",
       "  {'letter': 'x',\n",
       "   'path': 'M-109 0l377 578l-131 555h355l36 -271l148 271h366l-360 -555l133 -578h-354l-45 297l-164 -297h-361z'},\n",
       "  {'letter': 'y',\n",
       "   'path': 'M33 -492q-51 0 -88 5.5t-68 15.5l60 293q54 -19 86 -19q43 0 66.5 23t45.5 68l62 126l-70 1113h332l2 -445q0 -46 -1 -93t-3 -93h6q12 50 30.5 106.5t28.5 85.5l185 439h344l-590 -1260q-49 -103 -105 -186t-132.5 -131t-190.5 -48z'},\n",
       "  {'letter': 'z',\n",
       "   'path': 'M-86 0l41 195l479 661h-319l59 277h694l-45 -213l-461 -644h338l-57 -276h-729z'},\n",
       "  {'letter': '{',\n",
       "   'path': 'M504 -324q-220 0 -314 75t-94 214q0 31 4 63.5t11 63.5l34 162q2 12 5.5 28.5t3.5 34.5q0 60 -27 88.5t-119 28.5l60 287q89 2 141.5 42.5t71.5 129.5l51 246q32 147 99 215.5t173 88t254 19.5h4l-61 -280q-74 0 -108 -25.5t-48 -103.5l-49 -238q-20 -95 -89.5 -160.5 t-203.5 -81.5l-2 -8q95 -31 137.5 -86t42.5 -123q0 -25 -4 -55.5t-10 -62.5l-29 -144q-6 -27 -6 -49q0 -44 18 -66t74 -22v-281h-20z'},\n",
       "  {'letter': '}',\n",
       "   'path': 'M-119 -324v281q76 0 119.5 27t58.5 102l50 238q20 95 89.5 160.5t202.5 80.5l2 8q-95 31 -137.5 85.5t-42.5 123.5q0 26 3.5 56.5t11.5 62.5l28 143q6 29 6 50q0 88 -112 88l59 280h12q211 0 293 -65t82 -203q0 -31 -3 -74.5t-9 -75.5l-35 -159q-3 -14 -5.5 -29.5 t-2.5 -34.5q0 -60 26.5 -88t118.5 -28l-59 -287q-88 -1 -142 -46.5t-71 -125.5l-51 -246q-31 -141 -88.5 -210.5t-154 -91.5t-245.5 -22h-4z'},\n",
       "  {'letter': 'Є',\n",
       "   'path': 'M471 -20q-204 0 -302.5 130t-98.5 357q0 141 31.5 285t91.5 275t145.5 234t193.5 162.5t236 59.5q107 0 201 -26t164 -79l-160 -270q-107 76 -195 76q-54 0 -97 -30.5t-76.5 -76.5t-57.5 -95t-39 -87h348l-63 -297h-353q-3 -34 -5.5 -68t-2.5 -65q0 -89 26.5 -136.5 t102.5 -47.5q51 0 127 26.5t143 61.5v-303q-51 -27 -118 -46t-132 -29.5t-110 -10.5z'},\n",
       "  {'letter': 'І', 'path': 'M-12 0l311 1462h342l-311 -1462h-342z'},\n",
       "  {'letter': 'Ї',\n",
       "   'path': 'M-12 0l311 1462h342l-311 -1462h-342zM704 1634q-129 0 -129 115q0 77 48.5 138t140.5 61q56 0 87.5 -29.5t31.5 -83.5q0 -91 -54.5 -146t-124.5 -55zM315 1634q-127 0 -127 115q0 77 48.5 138t140.5 61q53 0 85 -29.5t32 -83.5q0 -91 -54 -146t-125 -55z'},\n",
       "  {'letter': 'А',\n",
       "   'path': 'M-119 0l631 1468h436l23 -1468h-365l8 285h-249l-109 -285h-375zM477 582h156l16 379q2 49 4 97t9 105h-7q-9 -53 -21.5 -99.5t-29.5 -96.5z'},\n",
       "  {'letter': 'Б',\n",
       "   'path': 'M-10 0l309 1462h729l-63 -301h-387l-48 -219h31q182 0 276.5 -90t94.5 -266q0 -106 -32 -210t-101 -189t-180 -136t-269 -51h-360zM393 297h27q72 0 116 73.5t44 186.5q0 50 -27 70t-74 20h-10z'},\n",
       "  {'letter': 'В',\n",
       "   'path': 'M-10 0l309 1462h397q100 0 188.5 -29t144.5 -97.5t56 -188.5q0 -127 -64 -231t-198 -150v-8q66 -29 106 -98.5t40 -167.5q0 -125 -57.5 -237.5t-171.5 -183.5t-283 -71h-467zM520 893h55q68 0 108 62t40 135q0 90 -92 90h-49zM393 289h62q81 0 121 67.5t40 155.5 q0 109 -90 109h-63z'},\n",
       "  {'letter': 'Г',\n",
       "   'path': 'M-10 0l309 1462h711l-62 -295h-368l-248 -1167h-342z'},\n",
       "  {'letter': 'Д',\n",
       "   'path': 'M-205 -455l158 754h86q138 245 255 538.5t202 624.5h764l-248 -1163h139l-160 -754h-334l97 455h-531l-96 -455h-332zM399 299h271l186 872h-115q-63 -220 -150.5 -444t-191.5 -428z'},\n",
       "  {'letter': 'Е',\n",
       "   'path': 'M-10 0l309 1462h664l-62 -295h-321l-58 -264h299l-63 -295h-297l-68 -309h324l-64 -299h-663z'},\n",
       "  {'letter': 'Ж',\n",
       "   'path': 'M-137 0l471 774l-164 688h350l139 -698l148 698h332l-150 -698l420 698h367l-465 -712l153 -750h-358l-121 743l-158 -743h-329l157 745l-419 -745h-373z'},\n",
       "  {'letter': 'З',\n",
       "   'path': 'M324 -20q-112 0 -190.5 16t-141.5 51v336q59 -52 142.5 -77t166.5 -25q113 0 175.5 48t62.5 160q0 125 -181 125h-131l64 295h127q227 0 227 187q0 35 -31.5 61.5t-85.5 26.5q-69 0 -127 -27.5t-108 -71.5l-111 240q110 82 218 120t237 38q160 0 256.5 -85.5t99.5 -246.5 q0 -154 -88.5 -250.5t-240.5 -128.5l-2 -8q57 -10 109.5 -46t86 -99t33.5 -156q0 -150 -75.5 -258.5t-203.5 -166.5t-288 -58z'},\n",
       "  {'letter': 'И',\n",
       "   'path': 'M-10 0l309 1462h334l-113 -524q-10 -55 -30 -134.5t-46 -158.5h9l491 817h404l-310 -1462h-333l112 528q11 50 34 139t48 169h-8l-498 -836h-403z'},\n",
       "  {'letter': 'Й',\n",
       "   'path': 'M-10 0l309 1462h334l-113 -524q-10 -55 -30 -134.5t-46 -158.5h9l491 817h404l-310 -1462h-333l112 528q11 50 34 139t48 169h-8l-498 -836h-403zM820 1569q-168 0 -238 73t-70 199q0 17 3.5 45.5t7.5 53.5h260q-10 -55 -10 -93q0 -84 65 -84q91 0 133 177h258 q-41 -197 -147.5 -284t-261.5 -87z'},\n",
       "  {'letter': 'К',\n",
       "   'path': 'M-10 0l309 1462h342l-149 -698l419 698h369l-465 -712l152 -750h-359l-121 743l-155 -743h-342z'},\n",
       "  {'letter': 'Л',\n",
       "   'path': 'M47 -20q-32 0 -66.5 5t-60.5 17v295q26 -12 50 -17.5t36 -5.5q34 0 69.5 31.5t74.5 132.5q18 45 50.5 147t75 243t91 304t98.5 330h792l-309 -1462h-342l242 1139h-152q-19 -71 -46.5 -165.5t-59 -197.5t-63 -201t-60 -178t-49.5 -127q-49 -102 -98 -166t-113 -94 t-160 -30z'},\n",
       "  {'letter': 'М',\n",
       "   'path': 'M-10 0l309 1462h444l21 -844h6l358 844h474l-312 -1462h-332l142 662q8 40 19 78.5t22 78.5h-6l-361 -819h-278l-17 807h-6q-9 -61 -17.5 -116.5t-19.5 -104.5l-125 -586h-321z'},\n",
       "  {'letter': 'Н',\n",
       "   'path': 'M-10 0l309 1462h342l-117 -553h252l119 553h342l-311 -1462h-342l129 610h-252l-129 -610h-342z'},\n",
       "  {'letter': 'О',\n",
       "   'path': 'M498 -20q-218 0 -322 119.5t-104 375.5q0 138 28.5 281t85 273.5t139 233t191 162.5t240.5 60q221 0 320.5 -125.5t99.5 -368.5q0 -118 -24 -255t-75 -270.5t-131 -243.5t-191 -176t-257 -66zM522 285q57 0 103.5 50.5t82.5 133t61 178.5t37.5 189.5t12.5 164.5 q0 185 -92 185q-56 0 -103 -50t-83 -132t-60.5 -177.5t-37.5 -189t-13 -164.5q0 -115 24 -151.5t68 -36.5z'},\n",
       "  {'letter': 'П',\n",
       "   'path': 'M-10 0l309 1462h909l-309 -1462h-342l246 1161h-225l-246 -1161h-342z'},\n",
       "  {'letter': 'Р',\n",
       "   'path': 'M-10 0l309 1462h358q209 0 300.5 -96.5t91.5 -253.5q0 -105 -30 -215.5t-94.5 -203.5t-166 -150.5t-244.5 -57.5h-80l-102 -485h-342zM496 780h24q82 0 129 80.5t47 206.5q0 60 -24 80t-74 20h-18z'},\n",
       "  {'letter': 'С',\n",
       "   'path': 'M446 -20q-185 0 -280.5 127.5t-95.5 341.5q0 145 29.5 292t86 280t138 237.5t186 164.5t229.5 60q92 0 184 -23t169 -82l-160 -270q-98 76 -178 76q-67 0 -119.5 -56t-90.5 -144.5t-63 -188t-37 -188t-12 -142.5q0 -100 28.5 -142t80.5 -42q68 0 133.5 22.5t128.5 54.5 v-303q-79 -40 -175 -57.5t-182 -17.5z'},\n",
       "  {'letter': 'Т',\n",
       "   'path': 'M150 0l245 1161h-235l63 301h815l-63 -301h-238l-245 -1161h-342z'},\n",
       "  {'letter': 'У',\n",
       "   'path': 'M168 -20q-67 0 -110.5 8.5t-84.5 23.5v299q32 -21 82 -29t78 -8q68 0 103.5 39.5t66.5 102.5l-106 1046h350l20 -379q2 -25 4 -70.5t4 -90t3 -70.5q23 59 51.5 128t62.5 142l152 340h366l-524 -1026q-58 -117 -130 -221.5t-166.5 -169.5t-221.5 -65z'},\n",
       "  {'letter': 'Ф',\n",
       "   'path': 'M416 -20l49 225q-172 5 -277.5 104t-105.5 297q0 122 34 243t107 221.5t190 163.5t283 69l39 180h332l-39 -180q113 -3 198.5 -56t134 -143t48.5 -207q0 -127 -36 -249.5t-110.5 -222t-190.5 -159t-277 -61.5l-47 -225h-332zM524 492l113 524q-53 0 -93 -37.5t-66.5 -97 t-40 -126t-13.5 -124.5q0 -74 25 -106.5t75 -32.5zM856 492q63 0 110.5 57t74 142.5t26.5 170.5q0 72 -25.5 112.5t-74.5 41.5z'},\n",
       "  {'letter': 'Х',\n",
       "   'path': 'M-121 0l471 731l-143 731h358l47 -364l195 364h369l-441 -719l174 -743h-370l-60 385l-233 -385h-367z'},\n",
       "  {'letter': 'Ц',\n",
       "   'path': 'M668 -455l96 455h-774l309 1462h342l-248 -1163h254l248 1163h342l-248 -1163h172l-162 -754h-331z'},\n",
       "  {'letter': 'Ч',\n",
       "   'path': 'M508 0l110 520q-61 -25 -129 -46t-127 -21q-121 0 -177 72.5t-56 189.5q0 32 7 83.5t18 100.5l118 563h342l-108 -510q-7 -37 -12 -66t-5 -52q0 -43 12 -61.5t34 -18.5q35 0 75 18t68 35l141 655h342l-311 -1462h-342z'},\n",
       "  {'letter': 'Ш',\n",
       "   'path': 'M-10 0l309 1462h342l-248 -1163h215l248 1163h342l-248 -1163h213l248 1163h342l-309 -1462h-1454z'},\n",
       "  {'letter': 'Щ',\n",
       "   'path': 'M1184 -455l98 455h-1292l309 1462h342l-248 -1163h215l248 1163h342l-248 -1163h213l248 1163h342l-248 -1163h172l-159 -754h-334z'},\n",
       "  {'letter': 'Ь',\n",
       "   'path': 'M-10 0l309 1462h342l-111 -520h31q182 0 276.5 -90t94.5 -266q0 -108 -32.5 -212.5t-102 -189t-180 -134.5t-267.5 -50h-360zM393 297h27q72 0 116 73.5t44 186.5q0 50 -27 70t-74 20h-10z'},\n",
       "  {'letter': 'Ю',\n",
       "   'path': 'M963 -20q-208 0 -306 119.5t-98 375.5q0 66 6 133h-104l-129 -608h-342l309 1462h342l-117 -555h99q28 104 77.5 206.5t121 186.5t166 134.5t214.5 50.5q192 0 299 -117t107 -377q0 -115 -22.5 -251t-71 -270t-124 -245t-182 -178t-245.5 -67zM977 285q58 0 102.5 59 t77 151t53.5 192.5t31 185.5t10 128q0 185 -86 185q-53 0 -96.5 -53t-76.5 -138t-55.5 -182t-34 -187.5t-11.5 -152.5q0 -115 21.5 -151.5t64.5 -36.5z'},\n",
       "  {'letter': 'Я',\n",
       "   'path': 'M-139 0l403 629q-90 87 -90 256q0 172 66.5 302t195.5 202.5t316 72.5h366l-309 -1462h-342l113 539h-17l-323 -539h-379zM612 819h29l74 352h-29q-55 0 -91 -38t-53.5 -97.5t-17.5 -124.5q0 -43 24 -67.5t64 -24.5z'},\n",
       "  {'letter': 'а',\n",
       "   'path': 'M264 -20q-109 0 -172 91.5t-63 247.5q0 87 17 197t51.5 221.5t87.5 206t126 152t166 57.5q65 0 118.5 -35t84.5 -121h6l53 136h287l-242 -1133h-266l-8 135h-8q-52 -66 -105.5 -110.5t-132.5 -44.5zM412 256q44 0 75.5 47.5t52.5 114.5t33 125q22 95 27.5 140.5t5.5 74.5 q0 110 -61 110q-31 0 -58.5 -37t-49.5 -96t-37.5 -126.5t-24 -130.5t-8.5 -107q0 -115 45 -115z'},\n",
       "  {'letter': 'б',\n",
       "   'path': 'M408 -20q-104 0 -187.5 42t-131.5 137.5t-48 256.5q0 110 14 239.5t52 261t108 249.5t181.5 206.5t273.5 130.5q59 16 161 36.5t244 37.5v-301q-89 -7 -168.5 -18.5t-177.5 -32.5q-130 -29 -191.5 -110.5t-82.5 -184.5h6q46 60 103.5 93.5t121.5 33.5q69 0 126 -34 t91.5 -109t34.5 -199q0 -127 -37.5 -256.5t-107 -238t-167.5 -174.5t-218 -66zM424 256q38 0 69.5 47.5t54 118t34.5 142.5t12 120q0 38 -8.5 72.5t-40.5 34.5q-22 0 -51 -24t-55 -57t-40 -61q-30 -150 -30 -254q0 -139 55 -139z'},\n",
       "  {'letter': 'в',\n",
       "   'path': 'M420 -20q-101 0 -188.5 43t-141 130t-53.5 218q0 130 29 267t96.5 254t182.5 189t286 72q169 0 268.5 -74t99.5 -217q0 -92 -54.5 -161.5t-188.5 -106.5l-2 -8q60 -13 108.5 -67t48.5 -165q0 -97 -54.5 -182.5t-163.5 -138.5t-273 -53zM428 702h100q71 0 99 34t28 87 q0 84 -61 84q-48 0 -79.5 -34t-51.5 -81.5t-35 -89.5zM465 225q41 0 80 39.5t39 97.5q0 48 -24 76.5t-81 28.5h-104q-6 -34 -7 -52t-1 -46q0 -83 29 -113.5t69 -30.5z'},\n",
       "  {'letter': 'г',\n",
       "   'path': 'M377 -20q-98 0 -179.5 24t-131.5 86.5t-54 177.5q0 143 72.5 240t185.5 154q86 46 138.5 86.5t52.5 89.5q0 26 -19.5 35.5t-44.5 9.5q-52 0 -96.5 -20t-79.5 -40l-78 234q76 44 152.5 70t165.5 26q173 0 255.5 -84.5t82.5 -224.5q0 -139 -68.5 -231t-181.5 -148 q-111 -55 -150 -88.5t-39 -73.5q0 -28 26.5 -37.5t57.5 -9.5q48 0 115 16t133 50v-269q-72 -38 -156 -55.5t-159 -17.5z'},\n",
       "  {'letter': 'д',\n",
       "   'path': 'M414 -20q-180 0 -278.5 95t-98.5 267q0 78 15.5 172t49.5 187t88 171t130.5 125t177.5 47q60 0 109.5 -18.5t74.5 -46.5h6q8 46 10 85.5t2 74.5q0 101 -27 136.5t-77 35.5q-52 0 -105 -20t-116 -60l-66 256q80 47 175 69.5t171 22.5q177 0 276 -121.5t99 -335.5 q0 -103 -13 -227t-42 -252t-76.5 -246.5t-115.5 -212.5t-159.5 -149t-209.5 -55zM432 244q33 0 61.5 38.5t52 98.5t41.5 127t30 125.5t18 91.5q-9 15 -33.5 35t-52.5 20q-42 0 -75.5 -47.5t-57.5 -119.5t-36.5 -146t-12.5 -127q0 -96 65 -96z'},\n",
       "  {'letter': 'е',\n",
       "   'path': 'M408 -20q-174 0 -273.5 101t-99.5 279q0 133 32 272t101 256.5t178 190t262 72.5q143 0 233.5 -79.5t90.5 -213.5q0 -137 -70 -225t-193.5 -130t-285.5 -42h-21q-6 -34 -6 -66q0 -84 32 -117.5t95 -33.5q74 0 134 17t145 65v-244q-91 -60 -178 -81t-176 -21zM412 694h4 q131 0 174 37.5t43 93.5q0 31 -20.5 50.5t-51.5 19.5q-43 0 -81.5 -47t-67.5 -154z'},\n",
       "  {'letter': 'ж',\n",
       "   'path': 'M49 -20q-31 0 -60.5 3.5t-60.5 12.5l80 272q18 -6 47 -6q59 0 101 53.5t68 132.5t38 157.5t12 127.5q0 137 -75 137q-19 0 -37 -4t-37 -10v270q65 27 151 27q157 0 241.5 -99t84.5 -270q0 -16 -1 -34.5t-3 -36.5h125l90 420h315l-88 -420h111q35 123 97 222.5t160 158.5 t239 59q29 0 59 -3t61 -11l-79 -275q-22 6 -48 6q-51 0 -92 -47t-69 -120.5t-43 -154.5t-15 -149q0 -137 76 -137q39 0 74 14v-270q-67 -26 -152 -26q-157 0 -241 99.5t-84 268.5q0 23 1.5 48t2.5 50h-115l-94 -446h-318l95 446h-113q-73 -255 -197.5 -360.5t-306.5 -105.5z '},\n",
       "  {'letter': 'з',\n",
       "   'path': 'M297 -20q-86 0 -170 16.5t-154 54.5v295q76 -49 151 -69.5t138 -20.5q69 0 110.5 31t41.5 82q0 46 -30 69t-101 23h-107l51 241h90q62 0 112 23t50 78q0 44 -20 62t-56 18q-75 0 -192 -60l-76 234q103 62 187 79t170 17q155 0 236 -74t81 -213q0 -106 -59.5 -170 t-163.5 -98l-2 -10q80 -19 119.5 -83.5t39.5 -150.5q0 -103 -54 -188t-154 -135.5t-238 -50.5z'},\n",
       "  {'letter': 'и',\n",
       "   'path': 'M285 -20q-120 0 -183 71.5t-63 194.5q0 35 5.5 78t12.5 88l154 721h328l-133 -629q-21 -100 -21 -158q0 -34 11 -53t40 -19q53 0 87 81t59 196l125 582h327l-239 -1133h-263l5 131h-7q-49 -69 -110 -110t-135 -41z'},\n",
       "  {'letter': 'й',\n",
       "   'path': 'M285 -20q-120 0 -183 71.5t-63 194.5q0 35 5.5 78t12.5 88l154 721h328l-133 -629q-21 -100 -21 -158q0 -34 11 -53t40 -19q53 0 87 81t59 196l125 582h327l-239 -1133h-263l5 131h-7q-49 -69 -110 -110t-135 -41zM639 1231q-168 0 -238 73t-70 199q0 17 3.5 45.5 t7.5 53.5h260q-10 -55 -10 -93q0 -84 65 -84q91 0 133 177h258q-41 -197 -147.5 -284t-261.5 -87z'},\n",
       "  {'letter': 'к',\n",
       "   'path': 'M-27 0l242 1133h328l-113 -533l322 533h358l-369 -560l154 -573h-352l-123 549l-117 -549h-330z'},\n",
       "  {'letter': 'л',\n",
       "   'path': 'M43 -20q-44 0 -71 8.5t-58 23.5v281q19 -16 39.5 -21.5t42.5 -5.5q33 0 64 32.5t61 116t59 234.5q51 258 178.5 381t380.5 123q101 0 172 -6t162 -17l-239 -1130h-328l184 870h-26q-77 0 -117.5 -84t-83.5 -276q-18 -84 -47 -176t-76.5 -172.5t-119.5 -131t-177 -50.5z '},\n",
       "  {'letter': 'м',\n",
       "   'path': 'M-27 0l242 1133h438l-2 -580h4l234 580h457l-240 -1133h-309l96 459q12 49 23.5 97t23.5 97h-2l-279 -653h-237l-8 653h-2q-8 -46 -14.5 -91t-14.5 -91l-100 -471h-310z'},\n",
       "  {'letter': 'н',\n",
       "   'path': 'M-27 0l242 1133h328l-88 -414h166l88 414h327l-239 -1133h-328l94 440h-168l-92 -440h-330z'},\n",
       "  {'letter': 'о',\n",
       "   'path': 'M395 -20q-169 0 -263.5 104t-94.5 287q0 89 18.5 194.5t59 209t105.5 189t157.5 137.5t216.5 52q166 0 259 -106.5t93 -284.5q0 -96 -19.5 -203.5t-60.5 -210t-106 -186t-155.5 -133t-209.5 -49.5zM434 256q40 0 73.5 54.5t57.5 137t37.5 168t13.5 146.5q0 115 -65 115 q-42 0 -76 -54.5t-58 -137t-37 -168.5t-13 -148q0 -113 67 -113z'},\n",
       "  {'letter': 'п',\n",
       "   'path': 'M-27 0l242 1133h262l-4 -132h6q50 71 111 111.5t133 40.5q61 0 117 -24t92.5 -81.5t36.5 -160.5q0 -31 -4 -70.5t-15 -93.5l-153 -723h-328l133 631q9 44 16 86t7 69q0 72 -52 72q-53 0 -87.5 -80.5t-59.5 -193.5l-123 -584h-330z'},\n",
       "  {'letter': 'р',\n",
       "   'path': 'M-129 -492l344 1625h266l-4 -144h8q59 91 119.5 127.5t130.5 36.5q108 0 172 -83.5t64 -258.5q0 -98 -18.5 -210.5t-55 -222.5t-90.5 -200t-126 -144t-161 -54q-67 0 -119 36.5t-79 102.5h-7q-6 -57 -13.5 -105.5t-12.5 -74.5l-92 -431h-326zM455 264q38 0 70.5 54 t56.5 135.5t37.5 165.5t13.5 143q0 115 -45 115q-35 0 -65 -38.5t-54 -99t-41 -129.5t-26 -131.5t-9 -103.5q0 -111 62 -111z'},\n",
       "  {'letter': 'с',\n",
       "   'path': 'M362 -20q-156 0 -240.5 99.5t-84.5 268.5q0 102 18.5 213.5t58.5 216.5t105 190t157 135t214 50q162 0 287 -88l-134 -258q-31 28 -71.5 45.5t-77.5 17.5q-62 0 -104.5 -53.5t-67.5 -132.5t-36 -157.5t-11 -127.5q0 -137 76 -137q92 0 225 98v-278q-55 -41 -140.5 -71.5 t-173.5 -30.5z'},\n",
       "  {'letter': 'т',\n",
       "   'path': 'M-27 0l242 1133h262l-6 -129h8q47 68 112 108.5t140 40.5q172 0 225 -139h7q50 63 119 101t143 38q110 0 168.5 -65.5t58.5 -184.5q0 -73 -22 -180l-154 -723h-328l133 629q21 95 21 153q0 76 -47 76q-39 0 -66 -42t-44.5 -102t-29.5 -114l-127 -600h-327l133 629 q9 44 15.5 87t6.5 70q0 72 -45 72q-36 0 -64 -42t-47 -102t-30 -114l-127 -600h-330z'},\n",
       "  {'letter': 'у',\n",
       "   'path': 'M33 -492q-51 0 -88 5.5t-68 15.5l60 293q54 -19 86 -19q43 0 66.5 23t45.5 68l62 126l-70 1113h332l2 -445q0 -46 -1 -93t-3 -93h6q12 50 30.5 106.5t28.5 85.5l185 439h344l-590 -1260q-49 -103 -105 -186t-132.5 -131t-190.5 -48z'},\n",
       "  {'letter': 'ф',\n",
       "   'path': 'M332 -492l104 492q-195 19 -297 129t-102 324q0 114 39.5 233t119 220t199 162.5t279.5 61.5l90 426h321l-90 -426q194 -24 296 -130t102 -320q0 -119 -40.5 -239t-121 -220t-199.5 -160.5t-276 -60.5l-105 -492h-319zM492 279l122 575q-58 0 -104 -39t-78 -102.5 t-48.5 -138.5t-16.5 -146q0 -37 28.5 -87t96.5 -62zM817 279q65 0 112 44t76.5 111.5t43.5 140t14 130.5q0 37 -28.5 87t-96.5 62z'},\n",
       "  {'letter': 'х',\n",
       "   'path': 'M-109 0l377 578l-131 555h355l36 -271l148 271h366l-360 -555l133 -578h-354l-45 297l-164 -297h-361z'},\n",
       "  {'letter': 'ц',\n",
       "   'path': 'M508 -416l92 436q-52 36 -63 111h-7q-101 -151 -245 -151q-115 0 -180.5 68.5t-65.5 197.5q0 32 5.5 77.5t12.5 88.5l154 721h328l-133 -629q-21 -100 -21 -158q0 -34 11 -53t40 -19q53 0 87 81t59 196l125 582h327l-157 -746q-13 -41 -13 -76q0 -29 15 -37t28 -8 q11 0 27.5 2.5t38.5 10.5l-148 -695h-317z'},\n",
       "  {'letter': 'ч',\n",
       "   'path': 'M449 0l71 334q11 50 31 104h-4q-41 -47 -99.5 -75.5t-115.5 -28.5q-75 0 -126 39t-77.5 100t-26.5 125q0 112 31 248l62 287h327l-57 -277q-9 -41 -16 -79.5t-7 -76.5q0 -27 12.5 -49t34.5 -22q47 0 80.5 48t59.5 175l61 281h328l-242 -1133h-327z'},\n",
       "  {'letter': 'ш',\n",
       "   'path': 'M266 -20q-110 0 -168.5 65.5t-58.5 183.5q0 39 6 85t16 98l154 721h328l-133 -627q-11 -46 -16 -87t-5 -69q0 -76 47 -76q37 0 64 44t45 104.5t28 109.5l127 601h330l-133 -627q-10 -46 -16.5 -89t-6.5 -71q0 -72 46 -72q38 0 65.5 44.5t46.5 105t29 108.5l127 601h328 l-240 -1133h-262l6 129h-8q-46 -67 -111.5 -108t-140.5 -41q-89 0 -144 34.5t-84 104.5h-6q-49 -61 -117.5 -100t-142.5 -39z'},\n",
       "  {'letter': 'щ',\n",
       "   'path': 'M989 -416l92 436q-51 37 -63 109h-6q-46 -67 -111.5 -108t-140.5 -41q-89 0 -144 34.5t-84 104.5h-6q-49 -61 -117.5 -100t-142.5 -39q-110 0 -168.5 65.5t-58.5 183.5q0 39 6 85t16 98l154 721h328l-133 -627q-11 -46 -16 -87t-5 -69q0 -76 47 -76q37 0 64 44t45 104.5 t28 109.5l127 601h330l-133 -627q-10 -46 -16.5 -89t-6.5 -71q0 -72 46 -72q38 0 65.5 44.5t46.5 105t29 108.5l127 601h328l-158 -746q-4 -16 -8 -39.5t-4 -36.5q0 -29 14.5 -37t28.5 -8q11 0 26.5 2.5t38.5 10.5l-147 -695h-318z'},\n",
       "  {'letter': 'ь',\n",
       "   'path': 'M354 -20q-90 0 -162.5 26t-115.5 88.5t-43 169.5q0 23 3 56.5t15 87.5l154 725h327l-88 -414q23 6 68 6q336 0 336 -301q0 -154 -63.5 -252.5t-175 -145t-255.5 -46.5zM403 225q47 0 77 51t30 121q0 82 -66 82q-12 0 -26 -2.5t-27 -5.5q-16 -79 -25.5 -127t-9.5 -57 q0 -17 6.5 -39.5t40.5 -22.5z'},\n",
       "  {'letter': 'ю',\n",
       "   'path': 'M856 -20q-170 0 -260 104t-90 287q0 17 0.5 35t1.5 34h-113l-92 -440h-330l242 1133h328l-88 -414h106q38 107 103.5 206.5t161.5 163.5t227 64q167 0 260.5 -106.5t93.5 -284.5q0 -91 -19.5 -197t-60.5 -209.5t-105.5 -188.5t-155.5 -136t-210 -51zM893 256 q32 0 60.5 37.5t51 97.5t39 128.5t25 133t8.5 109.5q0 115 -65 115q-39 0 -73 -55.5t-59 -138.5t-39 -168.5t-14 -145.5q0 -113 66 -113z'},\n",
       "  {'letter': 'я',\n",
       "   'path': 'M49 -18q-47 0 -78 6t-47 12v256q13 -3 26.5 -5.5t26.5 -2.5q38 0 66 15.5t43 66.5q22 75 51 119.5t99 66.5q-42 31 -70.5 76.5t-28.5 142.5q0 141 62.5 228.5t169 128.5t237.5 41h418l-240 -1133h-327l88 424h-17q-30 0 -53 -12t-47.5 -58.5t-60.5 -152.5 q-46 -136 -128 -177.5t-190 -41.5zM547 639h45l55 260h-41q-48 0 -78.5 -27t-44.5 -65.5t-14 -73.5q0 -37 16 -65.5t62 -28.5z'},\n",
       "  {'letter': 'є',\n",
       "   'path': 'M367 -20q-157 0 -245.5 99.5t-88.5 268.5q0 103 19 214.5t60 216.5t106.5 189.5t158.5 134.5t217 50q175 0 297 -88l-133 -246q-29 29 -76 47.5t-84 18.5q-44 0 -80 -34.5t-61 -81.5t-37 -83h260l-51 -246h-258v-55q0 -67 23.5 -101t60.5 -34q47 0 108.5 23.5t128.5 72.5 v-264q-61 -44 -152.5 -73t-172.5 -29z'},\n",
       "  {'letter': 'і',\n",
       "   'path': 'M412 1243q-152 0 -152 125q0 50 21.5 101t68 85.5t119.5 34.5q72 0 112 -31t40 -94q0 -94 -57.5 -157.5t-151.5 -63.5zM-25 0l242 1133h326l-240 -1133h-328z'},\n",
       "  {'letter': 'ї',\n",
       "   'path': 'M-25 0l242 1133h326l-240 -1133h-328zM595 1257q-129 0 -129 115q0 77 48.5 138t140.5 61q56 0 87.5 -29.5t31.5 -83.5q0 -91 -54.5 -146t-124.5 -55zM206 1257q-127 0 -127 115q0 77 48.5 138t140.5 61q53 0 85 -29.5t32 -83.5q0 -91 -54 -146t-125 -55z'},\n",
       "  {'letter': 'Ґ',\n",
       "   'path': 'M-10 0l309 1462h418l67 314h334l-131 -611l-407 2l-248 -1167h-342z'},\n",
       "  {'letter': 'ґ',\n",
       "   'path': 'M-27 0l242 1133h324l63 294h318l-123 -571h-314l-180 -856h-330z'}]}"
      ]
     },
     "execution_count": 40,
     "metadata": {},
     "output_type": "execute_result"
    }
   ],
   "source": [
    "jsons[5]"
   ]
  },
  {
   "cell_type": "code",
   "execution_count": 41,
   "id": "8add16d4-1d66-4172-81a1-19a271e3c92d",
   "metadata": {},
   "outputs": [
    {
     "data": {
      "text/plain": [
       "Collection(Database(MongoClient(host=['ac-5dsaw84-shard-00-00.hquocfa.mongodb.net:27017', 'ac-5dsaw84-shard-00-01.hquocfa.mongodb.net:27017', 'ac-5dsaw84-shard-00-02.hquocfa.mongodb.net:27017'], document_class=dict, tz_aware=False, connect=True, authsource='$external', authmechanism='MONGODB-X509', retrywrites=True, w='majority', replicaset='atlas-32tpky-shard-0', tls=True, tlscertificatekeyfile='/mnt/d/grad23/fonty/auth/X509-cert-6658948524510096383.pem'), 'fonty'), 'fonts')"
      ]
     },
     "execution_count": 41,
     "metadata": {},
     "output_type": "execute_result"
    }
   ],
   "source": [
    "target_collection = cli_remote['fonty']['fonts']\n",
    "target_collection"
   ]
  },
  {
   "cell_type": "code",
   "execution_count": 42,
   "id": "dc329749-9a37-4940-ab45-aa6e5f36cbe8",
   "metadata": {},
   "outputs": [
    {
     "data": {
      "text/plain": [
       "<pymongo.results.DeleteResult at 0x7f3c0d1207f0>"
      ]
     },
     "execution_count": 42,
     "metadata": {},
     "output_type": "execute_result"
    }
   ],
   "source": [
    "target_collection.delete_many({'family_name': {'$regex': r'.*Open Sans.*'}})"
   ]
  },
  {
   "cell_type": "code",
   "execution_count": 43,
   "id": "42656c23-0f3e-4d40-9596-40653e98d61d",
   "metadata": {},
   "outputs": [],
   "source": [
    "for font in jsons:\n",
    "    target_collection.insert_one(font)"
   ]
  },
  {
   "cell_type": "code",
   "execution_count": null,
   "id": "aa52c284-f59f-430a-b9cc-d6df5fbf051f",
   "metadata": {},
   "outputs": [],
   "source": []
  }
 ],
 "metadata": {
  "kernelspec": {
   "display_name": "Python 3 (ipykernel)",
   "language": "python",
   "name": "python3"
  },
  "language_info": {
   "codemirror_mode": {
    "name": "ipython",
    "version": 3
   },
   "file_extension": ".py",
   "mimetype": "text/x-python",
   "name": "python",
   "nbconvert_exporter": "python",
   "pygments_lexer": "ipython3",
   "version": "3.10.6"
  }
 },
 "nbformat": 4,
 "nbformat_minor": 5
}
