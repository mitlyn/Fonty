{
 "cells": [
  {
   "cell_type": "markdown",
   "id": "25c59f5d-8396-4b86-99bc-8fbe11a4c8eb",
   "metadata": {},
   "source": [
    "# fetch-db"
   ]
  },
  {
   "cell_type": "code",
   "execution_count": 1,
   "id": "8c558b33-0fb9-451e-84fc-ffd5d4bc9960",
   "metadata": {},
   "outputs": [],
   "source": [
    "import pymongo"
   ]
  },
  {
   "cell_type": "code",
   "execution_count": 2,
   "id": "c029c78c-63c7-41ec-a53f-bc2241a59db9",
   "metadata": {},
   "outputs": [],
   "source": [
    "cli_remote = pymongo.MongoClient(\n",
    "    'mongodb+srv://fonty.hquocfa.mongodb.net/?authSource=%24external&authMechanism=MONGODB-X509&retryWrites=true&w=majority',\n",
    "    tls=True,\n",
    "    tlsCertificateKeyFile='X509-cert-6658948524510096383.pem'\n",
    ")"
   ]
  },
  {
   "cell_type": "code",
   "execution_count": 3,
   "id": "3cfaeb39-27a1-4b5d-9594-e3ce6f107d30",
   "metadata": {},
   "outputs": [],
   "source": [
    "collection = cli_remote.fonty.fonts"
   ]
  },
  {
   "cell_type": "code",
   "execution_count": 4,
   "id": "0df1a74f-0c44-4806-be8d-d9fb0f9deef5",
   "metadata": {},
   "outputs": [],
   "source": [
    "query = {'family_name': {'$regex': r'Times.*'}}"
   ]
  },
  {
   "cell_type": "code",
   "execution_count": 5,
   "id": "9657cbcf-6a09-47c4-b88e-18cb354230f3",
   "metadata": {},
   "outputs": [],
   "source": [
    "import os\n",
    "import sys"
   ]
  },
  {
   "cell_type": "code",
   "execution_count": 6,
   "id": "865dd619-d7f2-4081-b94e-9da194b44b1e",
   "metadata": {},
   "outputs": [
    {
     "name": "stdout",
     "output_type": "stream",
     "text": [
      "/mnt/d/grad23/fonty\n"
     ]
    }
   ],
   "source": [
    "%cd .."
   ]
  },
  {
   "cell_type": "code",
   "execution_count": 7,
   "id": "4f1902c8-e3ea-4816-8910-7019e9806f55",
   "metadata": {},
   "outputs": [],
   "source": [
    "import fonts.font as font"
   ]
  },
  {
   "cell_type": "code",
   "execution_count": 8,
   "id": "1ebacc48-d506-4663-9903-e67fde675f8f",
   "metadata": {},
   "outputs": [],
   "source": [
    "font_object = collection.find_one(query)"
   ]
  },
  {
   "cell_type": "code",
   "execution_count": 9,
   "id": "c443adf3-8a79-434d-aae2-e59d0bd455d6",
   "metadata": {},
   "outputs": [
    {
     "name": "stderr",
     "output_type": "stream",
     "text": [
      "This font does not contain cap_height property. Assuming cap_height=1000\n",
      "This font does not contain baseline_y property. Assuming baseline_y=0\n"
     ]
    }
   ],
   "source": [
    "times = font.Font.fromMongoQuery(collection, query)"
   ]
  },
  {
   "cell_type": "code",
   "execution_count": 10,
   "id": "fb9682a8-83eb-452c-a49a-8afb898d46ad",
   "metadata": {},
   "outputs": [],
   "source": [
    "import matplotlib.pyplot as plt"
   ]
  },
  {
   "cell_type": "code",
   "execution_count": 11,
   "id": "a6c12523-5d96-4e00-b7d2-b7ec4cf6e197",
   "metadata": {},
   "outputs": [
    {
     "data": {
      "text/plain": [
       "'M128 -303q224 88 224 262q0 21 -7.5 31t-23.5 10q-8 0 -27 -10q-33 -18 -56 -18q-45 0 -77 32.5t-32 77.5q0 51 38 86.5t92 35.5q76 0 121 -61t45 -146q0 -236 -297 -339v39z'"
      ]
     },
     "execution_count": 11,
     "metadata": {},
     "output_type": "execute_result"
    }
   ],
   "source": [
    "times._glyphs[11]._path"
   ]
  },
  {
   "cell_type": "code",
   "execution_count": 17,
   "id": "d44dcbba-bd3b-4153-8aa5-196878508bb6",
   "metadata": {},
   "outputs": [
    {
     "data": {
      "text/plain": [
       "<matplotlib.image.AxesImage at 0x7fef92a358a0>"
      ]
     },
     "execution_count": 17,
     "metadata": {},
     "output_type": "execute_result"
    },
    {
     "data": {
      "image/png": "[encoded data removed]",
      "text/plain": [
       "<Figure size 640x480 with 1 Axes>"
      ]
     },
     "metadata": {},
     "output_type": "display_data"
    }
   ],
   "source": [
    "plt.imshow(times._glyphs[11].np_array)"
   ]
  },
  {
   "cell_type": "code",
   "execution_count": null,
   "id": "e50fe162-2c92-42e3-8c66-50732e00a340",
   "metadata": {},
   "outputs": [],
   "source": [
    "times.glyphs"
   ]
  },
  {
   "cell_type": "code",
   "execution_count": null,
   "id": "ab682c0c-62dd-4421-b723-e0cb1ac74fa0",
   "metadata": {},
   "outputs": [],
   "source": [
    "times.glyphset_from_unicode_subset(\n",
    "    \n",
    ")"
   ]
  }
 ],
 "metadata": {
  "kernelspec": {
   "display_name": "Python 3 (ipykernel)",
   "language": "python",
   "name": "python3"
  },
  "language_info": {
   "codemirror_mode": {
    "name": "ipython",
    "version": 3
   },
   "file_extension": ".py",
   "mimetype": "text/x-python",
   "name": "python",
   "nbconvert_exporter": "python",
   "pygments_lexer": "ipython3",
   "version": "3.10.6"
  }
 },
 "nbformat": 4,
 "nbformat_minor": 5
}
